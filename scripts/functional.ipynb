{
 "cells": [
  {
   "metadata": {
    "ExecuteTime": {
     "end_time": "2024-08-28T22:02:03.021319Z",
     "start_time": "2024-08-28T22:02:02.288843Z"
    }
   },
   "cell_type": "code",
   "source": [
    "from report import *\n",
    "\n",
    "reports_dir = '../data'\n",
    "data = extract(reports_dir, reports_dir)[0]\n",
    "counts = create_count_table(data)"
   ],
   "id": "79a18ca57ed54d45",
   "outputs": [
    {
     "name": "stdout",
     "output_type": "stream",
     "text": [
      "Using existing aggregated datasets.\n"
     ]
    }
   ],
   "execution_count": 1
  },
  {
   "metadata": {
    "ExecuteTime": {
     "end_time": "2024-08-28T22:02:03.145816Z",
     "start_time": "2024-08-28T22:02:03.022478Z"
    }
   },
   "cell_type": "code",
   "source": [
    "s_counts = style_counts(counts)\n",
    "print(s_counts.to_latex(multicol_align='c', hrules=True, multirow_align='t', convert_css=True))"
   ],
   "id": "aa8d67d21e4ad12c",
   "outputs": [
    {
     "name": "stdout",
     "output_type": "stream",
     "text": [
      "\\begin{table}\n",
      "\\caption{Semantics Preservation and Propagation Accuracy.}\n",
      "\\begin{tabular}{llrrrrrrrrrrrrrrrrrrrrrrrr}\n",
      "\\toprule\n",
      " &  & \\multicolumn{8}{c}{Galette} & \\multicolumn{8}{c}{MirrorTaint} & \\multicolumn{8}{c}{Phosphor} \\\\\n",
      " &  & \\multicolumn{4}{c}{Semantic} & \\multicolumn{4}{c}{Tag} & \\multicolumn{4}{c}{Semantic} & \\multicolumn{4}{c}{Tag} & \\multicolumn{4}{c}{Semantic} & \\multicolumn{4}{c}{Tag} \\\\\n",
      " &  & 8 & 11 & 17 & 21 & 8 & 11 & 17 & 21 & 8 & 11 & 17 & 21 & 8 & 11 & 17 & 21 & 8 & 11 & 17 & 21 & 8 & 11 & 17 & 21 \\\\\n",
      "Group & Total &  &  &  &  &  &  &  &  &  &  &  &  &  &  &  &  &  &  &  &  &  &  &  &  \\\\\n",
      "\\midrule\n",
      "Array Access & 74 & 0 & 0 & 0 & 0 & 0 & 0 & 0 & 0 & 0 & 0 & 0 & 0 & \\color{red} 55 & \\color{red} 55 & \\color{red} 55 & \\color{red} 55 & 0 & 0 & \\color{red} 74 & \\color{red} 74 & 0 & 0 & 0 & 0 \\\\\n",
      "Array Length & 5 & 0 & 0 & 0 & 0 & 0 & 0 & 0 & 0 & 0 & 0 & 0 & 0 & \\color{red} 3 & \\color{red} 3 & \\color{red} 3 & \\color{red} 3 & 0 & 0 & \\color{red} 5 & \\color{red} 5 & 0 & 0 & 0 & 0 \\\\\n",
      "Array Reflection & 75 & 0 & 0 & 0 & 0 & 0 & 0 & 0 & 0 & 0 & 0 & 0 & 0 & \\color{red} 65 & \\color{red} 65 & \\color{red} 65 & \\color{red} 65 & 0 & 0 & \\color{red} 75 & \\color{red} 75 & \\color{red} 7 & \\color{red} 7 & 0 & 0 \\\\\n",
      "Assignment & 12 & 0 & 0 & 0 & 0 & 0 & 0 & 0 & 0 & 0 & 0 & 0 & 0 & 0 & 0 & 0 & 0 & 0 & 0 & \\color{red} 12 & \\color{red} 12 & 0 & 0 & 0 & 0 \\\\\n",
      "Boxed Type & 8 & 0 & 0 & 0 & 0 & 0 & 0 & 0 & 0 & 0 & 0 & 0 & 0 & 0 & 0 & 0 & 0 & 0 & 0 & \\color{red} 8 & \\color{red} 8 & 0 & 0 & 0 & 0 \\\\\n",
      "Class Reflection & 7 & 0 & 0 & 0 & 0 & 0 & 0 & 0 & 0 & 0 & 0 & 0 & 0 & 0 & 0 & 0 & 0 & 0 & 0 & \\color{red} 7 & \\color{red} 7 & 0 & 0 & 0 & 0 \\\\\n",
      "Collection & 6 & 0 & 0 & 0 & 0 & 0 & 0 & 0 & 0 & 0 & 0 & 0 & 0 & \\color{red} 2 & \\color{red} 2 & \\color{red} 2 & \\color{red} 2 & 0 & 0 & \\color{red} 6 & \\color{red} 6 & 0 & 0 & 0 & 0 \\\\\n",
      "Conditional & 4 & 0 & 0 & 0 & 0 & 0 & 0 & 0 & 0 & 0 & 0 & 0 & 0 & 0 & 0 & 0 & 0 & 0 & 0 & \\color{red} 4 & \\color{red} 4 & 0 & 0 & 0 & 0 \\\\\n",
      "Constructor Reflection & 88 & 0 & 0 & 0 & 0 & 0 & 0 & 0 & 0 & 0 & 0 & 0 & 0 & \\color{red} 12 & \\color{red} 12 & \\color{red} 12 & \\color{red} 12 & \\color{red} 18 & \\color{red} 18 & \\color{red} 88 & \\color{red} 88 & 0 & 0 & 0 & 0 \\\\\n",
      "Field & 6 & 0 & 0 & 0 & 0 & 0 & 0 & 0 & 0 & 0 & 0 & 0 & 0 & \\color{red} 2 & \\color{red} 2 & \\color{red} 2 & \\color{red} 2 & 0 & 0 & \\color{red} 6 & \\color{red} 6 & 0 & 0 & 0 & 0 \\\\\n",
      "Field Reflection & 176 & 0 & 0 & 0 & 0 & 0 & 0 & 0 & 0 & 0 & 0 & 0 & 0 & \\color{red} 31 & \\color{red} 31 & \\color{red} 31 & \\color{red} 31 & 0 & 0 & \\color{red} 176 & \\color{red} 176 & 0 & 0 & 0 & 0 \\\\\n",
      "Jdk Unsafe & 322 & --- & 0 & 0 & 0 & --- & 0 & 0 & 0 & --- & 0 & 0 & 0 & --- & \\color{red} 213 & \\color{red} 213 & \\color{red} 213 & --- & 0 & \\color{red} 322 & \\color{red} 322 & --- & \\color{red} 27 & 0 & 0 \\\\\n",
      "Lambda & 7 & 0 & 0 & 0 & 0 & 0 & 0 & 0 & 0 & 0 & 0 & 0 & 0 & \\color{red} 1 & \\color{red} 1 & \\color{red} 1 & \\color{red} 1 & 0 & 0 & \\color{red} 7 & \\color{red} 7 & \\color{red} 1 & \\color{red} 1 & 0 & 0 \\\\\n",
      "Loop & 4 & 0 & 0 & 0 & 0 & 0 & 0 & 0 & 0 & 0 & 0 & 0 & 0 & \\color{red} 1 & \\color{red} 1 & \\color{red} 1 & \\color{red} 1 & 0 & 0 & \\color{red} 4 & \\color{red} 4 & 0 & 0 & 0 & 0 \\\\\n",
      "Method Call & 14 & 0 & 0 & 0 & 0 & 0 & 0 & 0 & 0 & 0 & 0 & 0 & 0 & 0 & 0 & 0 & 0 & 0 & 0 & \\color{red} 14 & \\color{red} 14 & 0 & 0 & 0 & 0 \\\\\n",
      "Method Handle & 40 & 0 & 0 & 0 & 0 & 0 & 0 & 0 & 0 & 0 & 0 & 0 & 0 & \\color{red} 34 & \\color{red} 34 & \\color{red} 34 & \\color{red} 34 & \\color{red} 3 & \\color{red} 3 & \\color{red} 40 & \\color{red} 40 & \\color{red} 36 & \\color{red} 36 & 0 & 0 \\\\\n",
      "Method Handle 9+ & 13 & --- & 0 & 0 & 0 & --- & 0 & 0 & 0 & --- & 0 & 0 & 0 & --- & \\color{red} 11 & \\color{red} 11 & \\color{red} 11 & --- & \\color{red} 4 & \\color{red} 13 & \\color{red} 13 & --- & \\color{red} 7 & 0 & 0 \\\\\n",
      "Method Reflection & 213 & 0 & 0 & 0 & 0 & 0 & 0 & 0 & 0 & 0 & 0 & 0 & 0 & \\color{red} 25 & \\color{red} 25 & \\color{red} 25 & \\color{red} 25 & \\color{red} 38 & \\color{red} 38 & \\color{red} 213 & \\color{red} 213 & \\color{red} 1 & \\color{red} 1 & 0 & 0 \\\\\n",
      "Record Type & 68 & --- & --- & 0 & 0 & --- & --- & 0 & 0 & --- & --- & 0 & 0 & --- & --- & \\color{red} 16 & \\color{red} 16 & --- & --- & \\color{red} 68 & \\color{red} 68 & --- & --- & 0 & 0 \\\\\n",
      "Static Initializer & 2 & 0 & 0 & 0 & 0 & 0 & 0 & 0 & 0 & 0 & 0 & 0 & 0 & \\color{red} 1 & \\color{red} 1 & \\color{red} 1 & \\color{red} 1 & 0 & 0 & \\color{red} 2 & \\color{red} 2 & 0 & 0 & 0 & 0 \\\\\n",
      "String & 26 & 0 & 0 & 0 & 0 & 0 & 0 & 0 & 0 & 0 & 0 & 0 & 0 & \\color{red} 13 & \\color{red} 13 & \\color{red} 13 & \\color{red} 13 & 0 & 0 & \\color{red} 26 & \\color{red} 26 & \\color{red} 2 & \\color{red} 1 & 0 & 0 \\\\\n",
      "String Builder Concat & 37 & 0 & 0 & 0 & 0 & 0 & 0 & 0 & 0 & 0 & 0 & 0 & 0 & \\color{red} 19 & \\color{red} 19 & \\color{red} 19 & \\color{red} 19 & 0 & 0 & \\color{red} 37 & \\color{red} 37 & \\color{red} 6 & \\color{red} 6 & 0 & 0 \\\\\n",
      "String Indy Concat & 37 & --- & 0 & 0 & 0 & --- & 0 & 0 & 0 & --- & 0 & 0 & 0 & --- & \\color{red} 19 & \\color{red} 19 & \\color{red} 19 & --- & 0 & \\color{red} 37 & \\color{red} 37 & --- & \\color{red} 19 & 0 & 0 \\\\\n",
      "Sun Unsafe & 270 & 0 & 0 & 0 & 0 & 0 & 0 & 0 & 0 & 0 & 0 & 0 & 0 & \\color{red} 177 & \\color{red} 177 & \\color{red} 177 & \\color{red} 177 & 0 & 0 & \\color{red} 270 & \\color{red} 270 & 0 & 0 & 0 & 0 \\\\\n",
      "Throwable & 5 & 0 & 0 & 0 & 0 & 0 & 0 & 0 & 0 & 0 & 0 & 0 & 0 & 0 & 0 & 0 & 0 & 0 & 0 & \\color{red} 5 & \\color{red} 5 & \\color{red} 2 & \\color{red} 2 & 0 & 0 \\\\\n",
      "Var Handle & 1932 & --- & 0 & 0 & 0 & --- & 0 & 0 & 0 & --- & 0 & 0 & 0 & --- & \\color{red} 1,353 & \\color{red} 1,353 & \\color{red} 1,353 & --- & \\color{red} 190 & \\color{red} 1,932 & \\color{red} 1,932 & --- & \\color{red} 726 & 0 & 0 \\\\\n",
      "\\bottomrule\n",
      "\\end{tabular}\n",
      "\\end{table}\n",
      "\n"
     ]
    }
   ],
   "execution_count": 2
  }
 ],
 "metadata": {
  "kernelspec": {
   "display_name": "Python 3",
   "language": "python",
   "name": "python3"
  },
  "language_info": {
   "codemirror_mode": {
    "name": "ipython",
    "version": 2
   },
   "file_extension": ".py",
   "mimetype": "text/x-python",
   "name": "python",
   "nbconvert_exporter": "python",
   "pygments_lexer": "ipython2",
   "version": "2.7.6"
  }
 },
 "nbformat": 4,
 "nbformat_minor": 5
}
