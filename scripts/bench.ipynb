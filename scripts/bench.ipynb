{
 "cells": [
  {
   "cell_type": "code",
   "outputs": [],
   "source": [
    "\n",
    "import os\n",
    "import glob\n",
    "import pandas as pd\n",
    "\n",
    "\n",
    "def select(data, **kwargs):\n",
    "    for k, v in kwargs.items():\n",
    "        data = data[data[k] == v]\n",
    "    return data\n",
    "\n",
    "\n",
    "def set_columns(data, **kwargs):\n",
    "    for k, v in kwargs.items():\n",
    "        data[k] = v\n",
    "    return data\n",
    "\n",
    "\n",
    "def create_df(report_file):\n",
    "    return set_columns(pd.read_csv(report_file), system=os.path.basename(report_file).removesuffix('.csv'))\n",
    "\n",
    "\n",
    "def get_group(class_name):\n",
    "    return class_name.split('.')[-1].removesuffix('ITCase')\n",
    "\n",
    "\n",
    "def classify(fp, fn, status):\n",
    "    if status != 'success':\n",
    "        return \"BEHAVIOR\"\n",
    "    else:\n",
    "        return \"PASSED\" if (fp + fn == 0) else \"PROPAGATION\"\n",
    "\n",
    "\n",
    "reports_dir = '../galette-evaluation/galette-evaluation-tools/target/flow-reports'\n",
    "pd.set_option('display.max_rows', 100)"
   ],
   "metadata": {
    "collapsed": false,
    "ExecuteTime": {
     "end_time": "2024-03-22T22:04:12.156404Z",
     "start_time": "2024-03-22T22:04:12.148641Z"
    }
   },
   "id": "6370d06dffb04b35",
   "execution_count": 58
  },
  {
   "cell_type": "code",
   "outputs": [
    {
     "data": {
      "text/plain": "                                               class  \\\n0  edu.neu.ccs.prl.galette.bench.StaticInitialize...   \n1   edu.neu.ccs.prl.galette.bench.MethodHandleITCase   \n2   edu.neu.ccs.prl.galette.bench.MethodHandleITCase   \n3   edu.neu.ccs.prl.galette.bench.MethodHandleITCase   \n4   edu.neu.ccs.prl.galette.bench.MethodHandleITCase   \n\n                               method  \\\n0                   staticInitializer   \n1  methodHandlesExplicitCastArguments   \n2              lookupUnreflectSpecial   \n3                     lookupUnreflect   \n4     methodHandlesArrayElementSetter   \n\n                                         name  tp  fp  fn   status    system  \\\n0  staticInitializer(TagManager, FlowChecker)   1   0   0  success  phosphor   \n1        methodHandlesExplicitCastArguments()   0   0   2  success  phosphor   \n2                    lookupUnreflectSpecial()   0   0   2  success  phosphor   \n3                           lookupUnreflect()   0   0   2  success  phosphor   \n4           methodHandlesArrayElementSetter()   0   0   1  success  phosphor   \n\n               group       result  \n0  StaticInitializer       PASSED  \n1       MethodHandle  PROPAGATION  \n2       MethodHandle  PROPAGATION  \n3       MethodHandle  PROPAGATION  \n4       MethodHandle  PROPAGATION  ",
      "text/html": "<div>\n<style scoped>\n    .dataframe tbody tr th:only-of-type {\n        vertical-align: middle;\n    }\n\n    .dataframe tbody tr th {\n        vertical-align: top;\n    }\n\n    .dataframe thead th {\n        text-align: right;\n    }\n</style>\n<table border=\"1\" class=\"dataframe\">\n  <thead>\n    <tr style=\"text-align: right;\">\n      <th></th>\n      <th>class</th>\n      <th>method</th>\n      <th>name</th>\n      <th>tp</th>\n      <th>fp</th>\n      <th>fn</th>\n      <th>status</th>\n      <th>system</th>\n      <th>group</th>\n      <th>result</th>\n    </tr>\n  </thead>\n  <tbody>\n    <tr>\n      <th>0</th>\n      <td>edu.neu.ccs.prl.galette.bench.StaticInitialize...</td>\n      <td>staticInitializer</td>\n      <td>staticInitializer(TagManager, FlowChecker)</td>\n      <td>1</td>\n      <td>0</td>\n      <td>0</td>\n      <td>success</td>\n      <td>phosphor</td>\n      <td>StaticInitializer</td>\n      <td>PASSED</td>\n    </tr>\n    <tr>\n      <th>1</th>\n      <td>edu.neu.ccs.prl.galette.bench.MethodHandleITCase</td>\n      <td>methodHandlesExplicitCastArguments</td>\n      <td>methodHandlesExplicitCastArguments()</td>\n      <td>0</td>\n      <td>0</td>\n      <td>2</td>\n      <td>success</td>\n      <td>phosphor</td>\n      <td>MethodHandle</td>\n      <td>PROPAGATION</td>\n    </tr>\n    <tr>\n      <th>2</th>\n      <td>edu.neu.ccs.prl.galette.bench.MethodHandleITCase</td>\n      <td>lookupUnreflectSpecial</td>\n      <td>lookupUnreflectSpecial()</td>\n      <td>0</td>\n      <td>0</td>\n      <td>2</td>\n      <td>success</td>\n      <td>phosphor</td>\n      <td>MethodHandle</td>\n      <td>PROPAGATION</td>\n    </tr>\n    <tr>\n      <th>3</th>\n      <td>edu.neu.ccs.prl.galette.bench.MethodHandleITCase</td>\n      <td>lookupUnreflect</td>\n      <td>lookupUnreflect()</td>\n      <td>0</td>\n      <td>0</td>\n      <td>2</td>\n      <td>success</td>\n      <td>phosphor</td>\n      <td>MethodHandle</td>\n      <td>PROPAGATION</td>\n    </tr>\n    <tr>\n      <th>4</th>\n      <td>edu.neu.ccs.prl.galette.bench.MethodHandleITCase</td>\n      <td>methodHandlesArrayElementSetter</td>\n      <td>methodHandlesArrayElementSetter()</td>\n      <td>0</td>\n      <td>0</td>\n      <td>1</td>\n      <td>success</td>\n      <td>phosphor</td>\n      <td>MethodHandle</td>\n      <td>PROPAGATION</td>\n    </tr>\n  </tbody>\n</table>\n</div>"
     },
     "execution_count": 59,
     "metadata": {},
     "output_type": "execute_result"
    }
   ],
   "source": [
    "report_files = glob.glob(os.path.join(reports_dir, '*.csv'))\n",
    "df = pd.concat(list(map(create_df, report_files)))\n",
    "df['group'] = df['class'].apply(get_group)\n",
    "df['result'] = df[['fp', 'fn', 'status']].apply(lambda x: classify(*x), axis=1)\n",
    "df['result'] = pd.Categorical(df['result'], categories=['BEHAVIOR', 'PROPAGATION', 'PASSED'])\n",
    "df.head()"
   ],
   "metadata": {
    "collapsed": false,
    "ExecuteTime": {
     "end_time": "2024-03-22T22:04:12.827954Z",
     "start_time": "2024-03-22T22:04:12.789721Z"
    }
   },
   "id": "9216c1fe045e3e3a",
   "execution_count": 59
  },
  {
   "cell_type": "code",
   "outputs": [],
   "source": [
    "totals = df.groupby(['group', 'system'])['result'] \\\n",
    "    .count() \\\n",
    "    .rename('total') \\\n",
    "    .reset_index()\n",
    "table = df.groupby(['group', 'system'])['result'] \\\n",
    "    .value_counts() \\\n",
    "    .reset_index() \\\n",
    "    .merge(totals, on=['group', 'system'], how='left')\n",
    "table.head()\n",
    "table = table[table['result'] != 'PASSED']"
   ],
   "metadata": {
    "collapsed": false,
    "ExecuteTime": {
     "end_time": "2024-03-22T22:20:36.299281Z",
     "start_time": "2024-03-22T22:20:36.281451Z"
    }
   },
   "id": "4ae664ebe9de1e55",
   "execution_count": 100
  },
  {
   "cell_type": "code",
   "outputs": [
    {
     "data": {
      "text/plain": "<pandas.io.formats.style.Styler at 0x7f5cfe046e90>",
      "text/html": "<style type=\"text/css\">\n</style>\n<table id=\"T_0253d\">\n  <thead>\n    <tr>\n      <th class=\"blank\" >&nbsp;</th>\n      <th class=\"blank level0\" >&nbsp;</th>\n      <th id=\"T_0253d_level0_col0\" class=\"col_heading level0 col0\" colspan=\"2\">Galette</th>\n      <th id=\"T_0253d_level0_col2\" class=\"col_heading level0 col2\" colspan=\"2\">MirrorTaint</th>\n      <th id=\"T_0253d_level0_col4\" class=\"col_heading level0 col4\" colspan=\"2\">Phosphor</th>\n    </tr>\n    <tr>\n      <th class=\"blank\" >&nbsp;</th>\n      <th class=\"blank level1\" >&nbsp;</th>\n      <th id=\"T_0253d_level1_col0\" class=\"col_heading level1 col0\" >Behavior</th>\n      <th id=\"T_0253d_level1_col1\" class=\"col_heading level1 col1\" >Propagation</th>\n      <th id=\"T_0253d_level1_col2\" class=\"col_heading level1 col2\" >Behavior</th>\n      <th id=\"T_0253d_level1_col3\" class=\"col_heading level1 col3\" >Propagation</th>\n      <th id=\"T_0253d_level1_col4\" class=\"col_heading level1 col4\" >Behavior</th>\n      <th id=\"T_0253d_level1_col5\" class=\"col_heading level1 col5\" >Propagation</th>\n    </tr>\n    <tr>\n      <th class=\"index_name level0\" >Group</th>\n      <th class=\"index_name level1\" >Total</th>\n      <th class=\"blank col0\" >&nbsp;</th>\n      <th class=\"blank col1\" >&nbsp;</th>\n      <th class=\"blank col2\" >&nbsp;</th>\n      <th class=\"blank col3\" >&nbsp;</th>\n      <th class=\"blank col4\" >&nbsp;</th>\n      <th class=\"blank col5\" >&nbsp;</th>\n    </tr>\n  </thead>\n  <tbody>\n    <tr>\n      <th id=\"T_0253d_level0_row0\" class=\"row_heading level0 row0\" >ArrayAccess</th>\n      <th id=\"T_0253d_level1_row0\" class=\"row_heading level1 row0\" >74</th>\n      <td id=\"T_0253d_row0_col0\" class=\"data row0 col0\" >0</td>\n      <td id=\"T_0253d_row0_col1\" class=\"data row0 col1\" >0</td>\n      <td id=\"T_0253d_row0_col2\" class=\"data row0 col2\" >0</td>\n      <td id=\"T_0253d_row0_col3\" class=\"data row0 col3\" >55</td>\n      <td id=\"T_0253d_row0_col4\" class=\"data row0 col4\" >0</td>\n      <td id=\"T_0253d_row0_col5\" class=\"data row0 col5\" >0</td>\n    </tr>\n    <tr>\n      <th id=\"T_0253d_level0_row1\" class=\"row_heading level0 row1\" >ArrayLength</th>\n      <th id=\"T_0253d_level1_row1\" class=\"row_heading level1 row1\" >5</th>\n      <td id=\"T_0253d_row1_col0\" class=\"data row1 col0\" >0</td>\n      <td id=\"T_0253d_row1_col1\" class=\"data row1 col1\" >0</td>\n      <td id=\"T_0253d_row1_col2\" class=\"data row1 col2\" >0</td>\n      <td id=\"T_0253d_row1_col3\" class=\"data row1 col3\" >3</td>\n      <td id=\"T_0253d_row1_col4\" class=\"data row1 col4\" >0</td>\n      <td id=\"T_0253d_row1_col5\" class=\"data row1 col5\" >0</td>\n    </tr>\n    <tr>\n      <th id=\"T_0253d_level0_row2\" class=\"row_heading level0 row2\" >ArrayReflection</th>\n      <th id=\"T_0253d_level1_row2\" class=\"row_heading level1 row2\" >75</th>\n      <td id=\"T_0253d_row2_col0\" class=\"data row2 col0\" >0</td>\n      <td id=\"T_0253d_row2_col1\" class=\"data row2 col1\" >0</td>\n      <td id=\"T_0253d_row2_col2\" class=\"data row2 col2\" >0</td>\n      <td id=\"T_0253d_row2_col3\" class=\"data row2 col3\" >65</td>\n      <td id=\"T_0253d_row2_col4\" class=\"data row2 col4\" >0</td>\n      <td id=\"T_0253d_row2_col5\" class=\"data row2 col5\" >7</td>\n    </tr>\n    <tr>\n      <th id=\"T_0253d_level0_row3\" class=\"row_heading level0 row3\" >Assignment</th>\n      <th id=\"T_0253d_level1_row3\" class=\"row_heading level1 row3\" >12</th>\n      <td id=\"T_0253d_row3_col0\" class=\"data row3 col0\" >0</td>\n      <td id=\"T_0253d_row3_col1\" class=\"data row3 col1\" >0</td>\n      <td id=\"T_0253d_row3_col2\" class=\"data row3 col2\" >0</td>\n      <td id=\"T_0253d_row3_col3\" class=\"data row3 col3\" >0</td>\n      <td id=\"T_0253d_row3_col4\" class=\"data row3 col4\" >0</td>\n      <td id=\"T_0253d_row3_col5\" class=\"data row3 col5\" >0</td>\n    </tr>\n    <tr>\n      <th id=\"T_0253d_level0_row4\" class=\"row_heading level0 row4\" >BoxedType</th>\n      <th id=\"T_0253d_level1_row4\" class=\"row_heading level1 row4\" >8</th>\n      <td id=\"T_0253d_row4_col0\" class=\"data row4 col0\" >0</td>\n      <td id=\"T_0253d_row4_col1\" class=\"data row4 col1\" >0</td>\n      <td id=\"T_0253d_row4_col2\" class=\"data row4 col2\" >0</td>\n      <td id=\"T_0253d_row4_col3\" class=\"data row4 col3\" >0</td>\n      <td id=\"T_0253d_row4_col4\" class=\"data row4 col4\" >0</td>\n      <td id=\"T_0253d_row4_col5\" class=\"data row4 col5\" >0</td>\n    </tr>\n    <tr>\n      <th id=\"T_0253d_level0_row5\" class=\"row_heading level0 row5\" >Collection</th>\n      <th id=\"T_0253d_level1_row5\" class=\"row_heading level1 row5\" >6</th>\n      <td id=\"T_0253d_row5_col0\" class=\"data row5 col0\" >0</td>\n      <td id=\"T_0253d_row5_col1\" class=\"data row5 col1\" >0</td>\n      <td id=\"T_0253d_row5_col2\" class=\"data row5 col2\" >0</td>\n      <td id=\"T_0253d_row5_col3\" class=\"data row5 col3\" >2</td>\n      <td id=\"T_0253d_row5_col4\" class=\"data row5 col4\" >0</td>\n      <td id=\"T_0253d_row5_col5\" class=\"data row5 col5\" >0</td>\n    </tr>\n    <tr>\n      <th id=\"T_0253d_level0_row6\" class=\"row_heading level0 row6\" >Conditional</th>\n      <th id=\"T_0253d_level1_row6\" class=\"row_heading level1 row6\" >4</th>\n      <td id=\"T_0253d_row6_col0\" class=\"data row6 col0\" >0</td>\n      <td id=\"T_0253d_row6_col1\" class=\"data row6 col1\" >0</td>\n      <td id=\"T_0253d_row6_col2\" class=\"data row6 col2\" >0</td>\n      <td id=\"T_0253d_row6_col3\" class=\"data row6 col3\" >0</td>\n      <td id=\"T_0253d_row6_col4\" class=\"data row6 col4\" >0</td>\n      <td id=\"T_0253d_row6_col5\" class=\"data row6 col5\" >0</td>\n    </tr>\n    <tr>\n      <th id=\"T_0253d_level0_row7\" class=\"row_heading level0 row7\" >Field</th>\n      <th id=\"T_0253d_level1_row7\" class=\"row_heading level1 row7\" >6</th>\n      <td id=\"T_0253d_row7_col0\" class=\"data row7 col0\" >0</td>\n      <td id=\"T_0253d_row7_col1\" class=\"data row7 col1\" >0</td>\n      <td id=\"T_0253d_row7_col2\" class=\"data row7 col2\" >0</td>\n      <td id=\"T_0253d_row7_col3\" class=\"data row7 col3\" >2</td>\n      <td id=\"T_0253d_row7_col4\" class=\"data row7 col4\" >0</td>\n      <td id=\"T_0253d_row7_col5\" class=\"data row7 col5\" >0</td>\n    </tr>\n    <tr>\n      <th id=\"T_0253d_level0_row8\" class=\"row_heading level0 row8\" >JdkUnsafe</th>\n      <th id=\"T_0253d_level1_row8\" class=\"row_heading level1 row8\" >306</th>\n      <td id=\"T_0253d_row8_col0\" class=\"data row8 col0\" >0</td>\n      <td id=\"T_0253d_row8_col1\" class=\"data row8 col1\" >0</td>\n      <td id=\"T_0253d_row8_col2\" class=\"data row8 col2\" >0</td>\n      <td id=\"T_0253d_row8_col3\" class=\"data row8 col3\" >186</td>\n      <td id=\"T_0253d_row8_col4\" class=\"data row8 col4\" >0</td>\n      <td id=\"T_0253d_row8_col5\" class=\"data row8 col5\" >18</td>\n    </tr>\n    <tr>\n      <th id=\"T_0253d_level0_row9\" class=\"row_heading level0 row9\" >Lambda</th>\n      <th id=\"T_0253d_level1_row9\" class=\"row_heading level1 row9\" >7</th>\n      <td id=\"T_0253d_row9_col0\" class=\"data row9 col0\" >0</td>\n      <td id=\"T_0253d_row9_col1\" class=\"data row9 col1\" >0</td>\n      <td id=\"T_0253d_row9_col2\" class=\"data row9 col2\" >0</td>\n      <td id=\"T_0253d_row9_col3\" class=\"data row9 col3\" >1</td>\n      <td id=\"T_0253d_row9_col4\" class=\"data row9 col4\" >0</td>\n      <td id=\"T_0253d_row9_col5\" class=\"data row9 col5\" >1</td>\n    </tr>\n    <tr>\n      <th id=\"T_0253d_level0_row10\" class=\"row_heading level0 row10\" >Loop</th>\n      <th id=\"T_0253d_level1_row10\" class=\"row_heading level1 row10\" >4</th>\n      <td id=\"T_0253d_row10_col0\" class=\"data row10 col0\" >0</td>\n      <td id=\"T_0253d_row10_col1\" class=\"data row10 col1\" >0</td>\n      <td id=\"T_0253d_row10_col2\" class=\"data row10 col2\" >0</td>\n      <td id=\"T_0253d_row10_col3\" class=\"data row10 col3\" >1</td>\n      <td id=\"T_0253d_row10_col4\" class=\"data row10 col4\" >0</td>\n      <td id=\"T_0253d_row10_col5\" class=\"data row10 col5\" >0</td>\n    </tr>\n    <tr>\n      <th id=\"T_0253d_level0_row11\" class=\"row_heading level0 row11\" >MethodCall</th>\n      <th id=\"T_0253d_level1_row11\" class=\"row_heading level1 row11\" >11</th>\n      <td id=\"T_0253d_row11_col0\" class=\"data row11 col0\" >0</td>\n      <td id=\"T_0253d_row11_col1\" class=\"data row11 col1\" >0</td>\n      <td id=\"T_0253d_row11_col2\" class=\"data row11 col2\" >0</td>\n      <td id=\"T_0253d_row11_col3\" class=\"data row11 col3\" >0</td>\n      <td id=\"T_0253d_row11_col4\" class=\"data row11 col4\" >0</td>\n      <td id=\"T_0253d_row11_col5\" class=\"data row11 col5\" >0</td>\n    </tr>\n    <tr>\n      <th id=\"T_0253d_level0_row12\" class=\"row_heading level0 row12\" >MethodHandle</th>\n      <th id=\"T_0253d_level1_row12\" class=\"row_heading level1 row12\" >53</th>\n      <td id=\"T_0253d_row12_col0\" class=\"data row12 col0\" >0</td>\n      <td id=\"T_0253d_row12_col1\" class=\"data row12 col1\" >0</td>\n      <td id=\"T_0253d_row12_col2\" class=\"data row12 col2\" >0</td>\n      <td id=\"T_0253d_row12_col3\" class=\"data row12 col3\" >45</td>\n      <td id=\"T_0253d_row12_col4\" class=\"data row12 col4\" >7</td>\n      <td id=\"T_0253d_row12_col5\" class=\"data row12 col5\" >43</td>\n    </tr>\n    <tr>\n      <th id=\"T_0253d_level0_row13\" class=\"row_heading level0 row13\" >StaticInitializer</th>\n      <th id=\"T_0253d_level1_row13\" class=\"row_heading level1 row13\" >1</th>\n      <td id=\"T_0253d_row13_col0\" class=\"data row13 col0\" >0</td>\n      <td id=\"T_0253d_row13_col1\" class=\"data row13 col1\" >0</td>\n      <td id=\"T_0253d_row13_col2\" class=\"data row13 col2\" >0</td>\n      <td id=\"T_0253d_row13_col3\" class=\"data row13 col3\" >0</td>\n      <td id=\"T_0253d_row13_col4\" class=\"data row13 col4\" >0</td>\n      <td id=\"T_0253d_row13_col5\" class=\"data row13 col5\" >0</td>\n    </tr>\n    <tr>\n      <th id=\"T_0253d_level0_row14\" class=\"row_heading level0 row14\" >SunUnsafe</th>\n      <th id=\"T_0253d_level1_row14\" class=\"row_heading level1 row14\" >270</th>\n      <td id=\"T_0253d_row14_col0\" class=\"data row14 col0\" >0</td>\n      <td id=\"T_0253d_row14_col1\" class=\"data row14 col1\" >0</td>\n      <td id=\"T_0253d_row14_col2\" class=\"data row14 col2\" >0</td>\n      <td id=\"T_0253d_row14_col3\" class=\"data row14 col3\" >168</td>\n      <td id=\"T_0253d_row14_col4\" class=\"data row14 col4\" >0</td>\n      <td id=\"T_0253d_row14_col5\" class=\"data row14 col5\" >0</td>\n    </tr>\n    <tr>\n      <th id=\"T_0253d_level0_row15\" class=\"row_heading level0 row15\" >VarHandle</th>\n      <th id=\"T_0253d_level1_row15\" class=\"row_heading level1 row15\" >1</th>\n      <td id=\"T_0253d_row15_col0\" class=\"data row15 col0\" >0</td>\n      <td id=\"T_0253d_row15_col1\" class=\"data row15 col1\" >0</td>\n      <td id=\"T_0253d_row15_col2\" class=\"data row15 col2\" >0</td>\n      <td id=\"T_0253d_row15_col3\" class=\"data row15 col3\" >0</td>\n      <td id=\"T_0253d_row15_col4\" class=\"data row15 col4\" >0</td>\n      <td id=\"T_0253d_row15_col5\" class=\"data row15 col5\" >0</td>\n    </tr>\n  </tbody>\n</table>\n"
     },
     "metadata": {},
     "output_type": "display_data"
    }
   ],
   "source": [
    "table = table.pivot(index=['group', 'total'], values=['count'], columns=['system', 'result']) \\\n",
    "    .reorder_levels(axis=1, order=['system', 'result', None]) \\\n",
    "    .sort_index(axis=1) \\\n",
    "    .sort_index(axis=0) \\\n",
    "    .droplevel(2, axis=1) \\\n",
    "    .fillna(0)\n",
    "table.index.names =[x.title() for x in table.index.names]\n",
    "table.columns = table.columns.map(lambda l: tuple(map(lambda s: s.title().replace('-', ''), l)))\n",
    "table.columns.names = [None, None]\n",
    "styler = table.style.format(precision=0)\n",
    "display(styler)"
   ],
   "metadata": {
    "collapsed": false,
    "ExecuteTime": {
     "end_time": "2024-03-22T22:20:37.287004Z",
     "start_time": "2024-03-22T22:20:37.274739Z"
    }
   },
   "id": "7b76eccc36d5c53c",
   "execution_count": 101
  },
  {
   "cell_type": "code",
   "outputs": [],
   "source": [],
   "metadata": {
    "collapsed": false
   },
   "id": "8b372b26aff9e671"
  }
 ],
 "metadata": {
  "kernelspec": {
   "display_name": "Python 3",
   "language": "python",
   "name": "python3"
  },
  "language_info": {
   "codemirror_mode": {
    "name": "ipython",
    "version": 2
   },
   "file_extension": ".py",
   "mimetype": "text/x-python",
   "name": "python",
   "nbconvert_exporter": "python",
   "pygments_lexer": "ipython2",
   "version": "2.7.6"
  }
 },
 "nbformat": 4,
 "nbformat_minor": 5
}
