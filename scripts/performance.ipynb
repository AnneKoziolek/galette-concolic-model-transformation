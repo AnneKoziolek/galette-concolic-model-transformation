{
 "cells": [
  {
   "cell_type": "code",
   "id": "initial_id",
   "metadata": {
    "collapsed": true,
    "ExecuteTime": {
     "end_time": "2024-08-23T14:37:40.018119Z",
     "start_time": "2024-08-23T14:37:39.240799Z"
    }
   },
   "source": [
    "from report import *\n",
    "\n",
    "from trial_data import extract\n",
    "\n",
    "reports_dir = '../data/'\n",
    "data = extract(reports_dir, reports_dir)[1]"
   ],
   "outputs": [
    {
     "name": "stdout",
     "output_type": "stream",
     "text": [
      "Using existing aggregated datasets.\n"
     ]
    }
   ],
   "execution_count": 1
  },
  {
   "metadata": {
    "ExecuteTime": {
     "end_time": "2024-08-23T14:37:40.027412Z",
     "start_time": "2024-08-23T14:37:40.019520Z"
    }
   },
   "cell_type": "code",
   "source": "data[['tool', 'benchmark']].value_counts()",
   "id": "90fed01e4513b574",
   "outputs": [
    {
     "data": {
      "text/plain": [
       "tool          benchmark \n",
       "galette       avrora        100\n",
       "              batik         100\n",
       "none          eclipse       100\n",
       "              fop           100\n",
       "              graphchi      100\n",
       "              h2            100\n",
       "              h2o           100\n",
       "              jme           100\n",
       "              jython        100\n",
       "              luindex       100\n",
       "              lusearch      100\n",
       "              pmd           100\n",
       "              spring        100\n",
       "              sunflow       100\n",
       "              tomcat        100\n",
       "              tradebeans    100\n",
       "              tradesoap     100\n",
       "              xalan         100\n",
       "              zxing         100\n",
       "phosphor      avrora        100\n",
       "              biojava       100\n",
       "              fop           100\n",
       "              graphchi      100\n",
       "              h2            100\n",
       "              jme           100\n",
       "              luindex       100\n",
       "              lusearch      100\n",
       "              spring        100\n",
       "              sunflow       100\n",
       "none          biojava       100\n",
       "              batik         100\n",
       "              avrora        100\n",
       "galette       sunflow       100\n",
       "              biojava       100\n",
       "              eclipse       100\n",
       "              fop           100\n",
       "              graphchi      100\n",
       "              h2            100\n",
       "              h2o           100\n",
       "              jme           100\n",
       "              jython        100\n",
       "              luindex       100\n",
       "              lusearch      100\n",
       "              pmd           100\n",
       "              spring        100\n",
       "              tomcat        100\n",
       "mirror-taint  zxing         100\n",
       "galette       tradebeans    100\n",
       "              tradesoap     100\n",
       "              xalan         100\n",
       "              zxing         100\n",
       "mirror-taint  avrora        100\n",
       "              batik         100\n",
       "              biojava       100\n",
       "              h2            100\n",
       "              jme           100\n",
       "              lusearch      100\n",
       "              sunflow       100\n",
       "              tomcat        100\n",
       "phosphor      xalan         100\n",
       "Name: count, dtype: int64"
      ]
     },
     "execution_count": 2,
     "metadata": {},
     "output_type": "execute_result"
    }
   ],
   "execution_count": 2
  },
  {
   "metadata": {},
   "cell_type": "markdown",
   "source": "",
   "id": "57f7f14e204ec908"
  },
  {
   "metadata": {
    "ExecuteTime": {
     "end_time": "2024-08-23T14:37:47.040451Z",
     "start_time": "2024-08-23T14:37:40.028246Z"
    }
   },
   "cell_type": "code",
   "source": [
    "memory = create_performance_table(data, 'rss')\n",
    "s_memory = style_performance_table(memory, 'Peak Memory Usage.')\n",
    "print(s_memory.to_latex(multicol_align='c', hrules=True, multirow_align='t', convert_css=True))"
   ],
   "id": "79ea39f9641b76ff",
   "outputs": [
    {
     "name": "stdout",
     "output_type": "stream",
     "text": [
      "\\begin{table}\n",
      "\\caption{Peak Memory Usage.}\n",
      "\\begin{tabular}{lrrrrrrrrrrrr}\n",
      "\\toprule\n",
      " & \\multicolumn{3}{c}{Base} & \\multicolumn{3}{c}{Galette} & \\multicolumn{3}{c}{MirrorTaint} & \\multicolumn{3}{c}{Phosphor} \\\\\n",
      " & MED & LCL & UCL & OV% & LCL & UCL & OV% & LCL & UCL & OV% & LCL & UCL \\\\\n",
      "\\midrule\n",
      "avrora & 126,888 & 118,766 & 132,078 & 70.93 & 63.50 & 83.33 & \\color{green} 1,672.04 & \\color{green} 1,582.68 & \\color{green} 1,797.78 & \\color{green} 156.12 & \\color{green} 145.41 & \\color{green} 174.44 \\\\\n",
      "batik & 226,222 & 220,376 & 229,780 & 148.23 & 140.18 & 155.98 & \\color{green} 924.69 & \\color{green} 896.37 & \\color{green} 953.57 & --- & --- & --- \\\\\n",
      "biojava & 171,582 & 170,632 & 172,595 & 234.19 & 226.56 & 242.17 & \\color{green} 400.78 & \\color{green} 394.04 & \\color{green} 406.27 & \\color{red} 130.10 & \\color{red} 125.60 & \\color{red} 132.60 \\\\\n",
      "eclipse & 295,456 & 283,124 & 311,140 & 98.62 & 83.46 & 125.08 & --- & --- & --- & --- & --- & --- \\\\\n",
      "fop & 144,340 & 143,276 & 145,324 & 110.41 & 108.27 & 112.67 & --- & --- & --- & \\color{green} 224.83 & \\color{green} 220.76 & \\color{green} 227.96 \\\\\n",
      "graphchi & 404,800 & 397,126 & 407,880 & 126.56 & 112.37 & 136.26 & --- & --- & --- & \\color{red} 35.70 & \\color{red} 34.39 & \\color{red} 38.30 \\\\\n",
      "h2 & 330,456 & 327,300 & 333,900 & 114.58 & 111.10 & 119.17 & \\color{green} 125.99 & \\color{green} 123.17 & \\color{green} 129.97 & \\color{green} 148.84 & \\color{green} 145.53 & \\color{green} 151.96 \\\\\n",
      "h2o & 393,078 & 386,500 & 397,792 & 75.48 & 72.13 & 79.55 & --- & --- & --- & --- & --- & --- \\\\\n",
      "jme & 265,956 & 254,170 & 276,358 & 164.12 & 152.18 & 174.74 & \\color{green} 834.43 & \\color{green} 789.46 & \\color{green} 873.63 & \\color{red} 127.12 & \\color{red} 116.08 & \\color{red} 137.59 \\\\\n",
      "jython & 420,200 & 417,001 & 427,648 & 650.26 & 628.23 & 675.97 & --- & --- & --- & --- & --- & --- \\\\\n",
      "luindex & 226,562 & 224,400 & 229,672 & 85.81 & 80.82 & 89.89 & --- & --- & --- & \\color{green} 154.28 & \\color{green} 149.30 & \\color{green} 159.14 \\\\\n",
      "lusearch & 216,048 & 208,092 & 220,980 & 229.20 & 210.00 & 244.98 & \\color{green} 272.32 & \\color{green} 261.42 & \\color{green} 285.25 & \\color{red} 93.45 & \\color{red} 88.90 & \\color{red} 100.61 \\\\\n",
      "pmd & 137,400 & 135,234 & 139,060 & 88.47 & 85.25 & 91.70 & --- & --- & --- & --- & --- & --- \\\\\n",
      "spring & 408,658 & 405,855 & 411,678 & 100.90 & 98.86 & 103.23 & --- & --- & --- & \\color{green} 167.49 & \\color{green} 164.75 & \\color{green} 170.13 \\\\\n",
      "sunflow & 166,026 & 162,544 & 168,070 & 118.19 & 112.43 & 123.86 & \\color{green} 721.46 & \\color{green} 702.64 & \\color{green} 743.72 & 115.01 & 111.77 & 119.72 \\\\\n",
      "tomcat & 280,744 & 277,622 & 285,188 & 149.44 & 144.68 & 153.83 & \\color{green} 387.55 & \\color{green} 353.77 & \\color{green} 412.60 & --- & --- & --- \\\\\n",
      "tradebeans & 607,824 & 592,757 & 617,068 & 139.86 & 135.95 & 146.22 & --- & --- & --- & --- & --- & --- \\\\\n",
      "tradesoap & 681,126 & 671,958 & 682,938 & 129.68 & 124.81 & 131.61 & --- & --- & --- & --- & --- & --- \\\\\n",
      "xalan & 132,144 & 129,712 & 134,486 & 82.09 & 77.60 & 90.22 & --- & --- & --- & \\color{green} 163.61 & \\color{green} 158.70 & \\color{green} 168.05 \\\\\n",
      "zxing & 108,982 & 106,072 & 110,264 & 155.83 & 152.26 & 162.76 & \\color{green} 3,634.75 & \\color{green} 3,540.05 & \\color{green} 3,786.60 & --- & --- & --- \\\\\n",
      "\\bottomrule\n",
      "\\end{tabular}\n",
      "\\end{table}\n",
      "\n"
     ]
    }
   ],
   "execution_count": 3
  },
  {
   "metadata": {
    "ExecuteTime": {
     "end_time": "2024-08-23T14:37:53.986448Z",
     "start_time": "2024-08-23T14:37:47.041640Z"
    }
   },
   "cell_type": "code",
   "source": [
    "time = create_performance_table(data, 'elapsed_time')\n",
    "s_time = style_performance_table(time, 'Execution Time')\n",
    "print(s_time.to_latex(multicol_align='c', hrules=True, multirow_align='t', convert_css=True))"
   ],
   "id": "d22f5c540014fa44",
   "outputs": [
    {
     "name": "stdout",
     "output_type": "stream",
     "text": [
      "\\begin{table}\n",
      "\\caption{Execution Time}\n",
      "\\begin{tabular}{lrrrrrrrrrrrr}\n",
      "\\toprule\n",
      " & \\multicolumn{3}{c}{Base} & \\multicolumn{3}{c}{Galette} & \\multicolumn{3}{c}{MirrorTaint} & \\multicolumn{3}{c}{Phosphor} \\\\\n",
      " & MED & LCL & UCL & OV% & LCL & UCL & OV% & LCL & UCL & OV% & LCL & UCL \\\\\n",
      "\\midrule\n",
      "avrora & 2,360 & 2,284 & 2,414 & 90.40 & 83.56 & 98.34 & \\color{green} 66,252.96 & \\color{green} 62,858.12 & \\color{green} 68,991.94 & \\color{green} 159.02 & \\color{green} 146.98 & \\color{green} 176.07 \\\\\n",
      "batik & 272 & 255 & 290 & 1,129.91 & 1,032.88 & 1,221.26 & \\color{green} 290,886.79 & \\color{green} 271,591.48 & \\color{green} 310,119.50 & --- & --- & --- \\\\\n",
      "biojava & 134 & 132 & 136 & 2,927.99 & 2,782.44 & 3,030.83 & \\color{green} 264,256.72 & \\color{green} 242,195.44 & \\color{green} 278,104.07 & \\color{red} 1,531.72 & \\color{red} 1,469.16 & \\color{red} 1,622.40 \\\\\n",
      "eclipse & 628 & 410 & 5,334 & 168.07 & -69.24 & 332.75 & --- & --- & --- & --- & --- & --- \\\\\n",
      "fop & 110 & 102 & 121 & 301.37 & 257.39 & 350.09 & --- & --- & --- & \\color{green} 564.38 & \\color{green} 483.92 & \\color{green} 622.00 \\\\\n",
      "graphchi & 504 & 482 & 522 & 539.68 & 511.93 & 577.45 & --- & --- & --- & \\color{green} 1,380.75 & \\color{green} 1,317.49 & \\color{green} 1,451.07 \\\\\n",
      "h2 & 134 & 128 & 137 & 439.55 & 405.88 & 470.69 & \\color{green} 86,674.63 & \\color{green} 83,493.63 & \\color{green} 89,880.02 & \\color{green} 769.40 & \\color{green} 722.01 & \\color{green} 831.24 \\\\\n",
      "h2o & 600 & 562 & 618 & 1,617.25 & 1,559.18 & 1,738.27 & --- & --- & --- & --- & --- & --- \\\\\n",
      "jme & 1,022 & 952 & 1,068 & 315.89 & 286.17 & 347.07 & \\color{green} 391,610.66 & \\color{green} 373,003.72 & \\color{green} 418,392.28 & \\color{green} 365.28 & \\color{green} 340.63 & \\color{green} 395.60 \\\\\n",
      "jython & 381 & 368 & 394 & 1,037.27 & 980.77 & 1,092.71 & --- & --- & --- & --- & --- & --- \\\\\n",
      "luindex & 1,100 & 828 & 1,917 & 532.23 & 254.18 & 718.28 & --- & --- & --- & \\color{green} 1,004.55 & \\color{green} 518.91 & \\color{green} 1,336.95 \\\\\n",
      "lusearch & 182 & 173 & 198 & 959.18 & 861.27 & 1,024.91 & \\color{green} 363,083.84 & \\color{green} 332,008.82 & \\color{green} 382,541.41 & \\color{red} 850.41 & \\color{red} 761.98 & \\color{red} 912.07 \\\\\n",
      "pmd & 98 & 92 & 103 & 287.76 & 256.04 & 328.69 & --- & --- & --- & --- & --- & --- \\\\\n",
      "spring & 98 & 90 & 102 & 168.21 & 152.32 & 186.17 & --- & --- & --- & \\color{green} 462.05 & \\color{green} 422.88 & \\color{green} 504.45 \\\\\n",
      "sunflow & 285 & 278 & 292 & 1,417.54 & 1,352.31 & 1,504.76 & \\color{green} 2,739,937.19 & \\color{green} 2,644,686.16 & \\color{green} 2,777,467.31 & \\color{green} 1,693.68 & \\color{green} 1,632.88 & \\color{green} 1,741.54 \\\\\n",
      "tomcat & 352 & 349 & 373 & 403.26 & 357.99 & 438.46 & \\color{green} 6,362.98 & \\color{green} 6,030.21 & \\color{green} 6,810.08 & --- & --- & --- \\\\\n",
      "tradebeans & 162 & 151 & 167 & 689.78 & 647.75 & 749.22 & --- & --- & --- & --- & --- & --- \\\\\n",
      "tradesoap & 453 & 443 & 476 & 874.39 & 797.88 & 942.29 & --- & --- & --- & --- & --- & --- \\\\\n",
      "xalan & 106 & 98 & 124 & 529.38 & 446.34 & 590.27 & --- & --- & --- & 481.04 & 390.38 & 555.49 \\\\\n",
      "zxing & 162 & 153 & 166 & 356.79 & 336.09 & 384.87 & \\color{green} 825,256.79 & \\color{green} 797,277.25 & \\color{green} 871,290.87 & --- & --- & --- \\\\\n",
      "\\bottomrule\n",
      "\\end{tabular}\n",
      "\\end{table}\n",
      "\n"
     ]
    }
   ],
   "execution_count": 4
  },
  {
   "metadata": {
    "ExecuteTime": {
     "end_time": "2024-08-23T14:37:53.999964Z",
     "start_time": "2024-08-23T14:37:53.987718Z"
    }
   },
   "cell_type": "code",
   "source": "print(style_performance_test_table(time, 'Execution Time.').to_latex(multicol_align='c', hrules=True, multirow_align='t', convert_css=True))",
   "id": "5cc779066db395cd",
   "outputs": [
    {
     "name": "stdout",
     "output_type": "stream",
     "text": [
      "\\begin{table}\n",
      "\\caption{Execution Time.}\n",
      "\\begin{tabular}{lrrrr}\n",
      "\\toprule\n",
      " & \\multicolumn{2}{c}{MirrorTaint} & \\multicolumn{2}{c}{Phosphor} \\\\\n",
      " & p & a12 & p & a12 \\\\\n",
      "\\midrule\n",
      "avrora & \\color{green} 2.562E-34 & \\color{green} 1.000 & \\color{green} 1.125E-33 & \\color{green} 0.995 \\\\\n",
      "batik & \\color{green} 2.562E-34 & \\color{green} 1.000 & --- & --- \\\\\n",
      "biojava & \\color{green} 2.561E-34 & \\color{green} 1.000 & \\color{red} 2.560E-34 & \\color{red} 1.000 \\\\\n",
      "eclipse & --- & --- & --- & --- \\\\\n",
      "fop & --- & --- & \\color{green} 5.930E-22 & \\color{green} 0.894 \\\\\n",
      "graphchi & --- & --- & \\color{green} 3.672E-34 & \\color{green} 0.999 \\\\\n",
      "h2 & \\color{green} 2.560E-34 & \\color{green} 1.000 & \\color{green} 9.947E-31 & \\color{green} 0.972 \\\\\n",
      "h2o & --- & --- & --- & --- \\\\\n",
      "jme & \\color{green} 2.562E-34 & \\color{green} 1.000 & \\color{green} 1.021E-05 & \\color{green} 0.681 \\\\\n",
      "jython & --- & --- & --- & --- \\\\\n",
      "luindex & --- & --- & \\color{green} 1.968E-13 & \\color{green} 0.801 \\\\\n",
      "lusearch & \\color{green} 2.561E-34 & \\color{green} 1.000 & \\color{red} 1.617E-07 & \\color{red} 0.714 \\\\\n",
      "pmd & --- & --- & --- & --- \\\\\n",
      "spring & --- & --- & \\color{green} 1.753E-33 & \\color{green} 0.994 \\\\\n",
      "sunflow & \\color{green} 2.561E-34 & \\color{green} 1.000 & \\color{green} 2.064E-25 & \\color{green} 0.926 \\\\\n",
      "tomcat & \\color{green} 2.561E-34 & \\color{green} 1.000 & --- & --- \\\\\n",
      "tradebeans & --- & --- & --- & --- \\\\\n",
      "tradesoap & --- & --- & --- & --- \\\\\n",
      "xalan & --- & --- & 7.212E-02 & 0.574 \\\\\n",
      "zxing & \\color{green} 2.560E-34 & \\color{green} 1.000 & --- & --- \\\\\n",
      "\\bottomrule\n",
      "\\end{tabular}\n",
      "\\end{table}\n",
      "\n"
     ]
    }
   ],
   "execution_count": 5
  },
  {
   "metadata": {
    "ExecuteTime": {
     "end_time": "2024-08-23T14:37:54.035694Z",
     "start_time": "2024-08-23T14:37:54.000647Z"
    }
   },
   "cell_type": "code",
   "source": "print(style_performance_test_table(memory, 'Peak Memory Usage.').to_latex(multicol_align='c', hrules=True, multirow_align='t', convert_css=True))",
   "id": "c851b724a04631a8",
   "outputs": [
    {
     "name": "stdout",
     "output_type": "stream",
     "text": [
      "\\begin{table}\n",
      "\\caption{Peak Memory Usage.}\n",
      "\\begin{tabular}{lrrrr}\n",
      "\\toprule\n",
      " & \\multicolumn{2}{c}{MirrorTaint} & \\multicolumn{2}{c}{Phosphor} \\\\\n",
      " & p & a12 & p & a12 \\\\\n",
      "\\midrule\n",
      "avrora & \\color{green} 2.562E-34 & \\color{green} 1.000 & \\color{green} 5.928E-34 & \\color{green} 0.997 \\\\\n",
      "batik & \\color{green} 2.562E-34 & \\color{green} 1.000 & --- & --- \\\\\n",
      "biojava & \\color{green} 2.562E-34 & \\color{green} 1.000 & \\color{red} 2.562E-34 & \\color{red} 1.000 \\\\\n",
      "eclipse & --- & --- & --- & --- \\\\\n",
      "fop & --- & --- & \\color{green} 2.562E-34 & \\color{green} 1.000 \\\\\n",
      "graphchi & --- & --- & \\color{red} 2.562E-34 & \\color{red} 1.000 \\\\\n",
      "h2 & \\color{green} 6.592E-16 & \\color{green} 0.831 & \\color{green} 1.046E-32 & \\color{green} 0.988 \\\\\n",
      "h2o & --- & --- & --- & --- \\\\\n",
      "jme & \\color{green} 2.562E-34 & \\color{green} 1.000 & \\color{red} 5.236E-20 & \\color{red} 0.875 \\\\\n",
      "jython & --- & --- & --- & --- \\\\\n",
      "luindex & --- & --- & \\color{green} 4.530E-34 & \\color{green} 0.998 \\\\\n",
      "lusearch & \\color{green} 5.535E-21 & \\color{green} 0.885 & \\color{red} 2.562E-34 & \\color{red} 1.000 \\\\\n",
      "pmd & --- & --- & --- & --- \\\\\n",
      "spring & --- & --- & \\color{green} 2.562E-34 & \\color{green} 1.000 \\\\\n",
      "sunflow & \\color{green} 2.562E-34 & \\color{green} 1.000 & 6.770E-01 & 0.517 \\\\\n",
      "tomcat & \\color{green} 2.562E-34 & \\color{green} 1.000 & --- & --- \\\\\n",
      "tradebeans & --- & --- & --- & --- \\\\\n",
      "tradesoap & --- & --- & --- & --- \\\\\n",
      "xalan & --- & --- & \\color{green} 2.562E-34 & \\color{green} 1.000 \\\\\n",
      "zxing & \\color{green} 2.562E-34 & \\color{green} 1.000 & --- & --- \\\\\n",
      "\\bottomrule\n",
      "\\end{tabular}\n",
      "\\end{table}\n",
      "\n"
     ]
    }
   ],
   "execution_count": 6
  }
 ],
 "metadata": {
  "kernelspec": {
   "display_name": "Python 3",
   "language": "python",
   "name": "python3"
  },
  "language_info": {
   "codemirror_mode": {
    "name": "ipython",
    "version": 2
   },
   "file_extension": ".py",
   "mimetype": "text/x-python",
   "name": "python",
   "nbconvert_exporter": "python",
   "pygments_lexer": "ipython2",
   "version": "2.7.6"
  }
 },
 "nbformat": 4,
 "nbformat_minor": 5
}
