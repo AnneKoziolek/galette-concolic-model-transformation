{
 "cells": [
  {
   "cell_type": "code",
   "id": "530bbcb7970a6c44",
   "metadata": {
    "collapsed": true,
    "ExecuteTime": {
     "end_time": "2024-04-24T14:03:11.514754Z",
     "start_time": "2024-04-24T14:03:11.280499Z"
    }
   },
   "source": [
    "import os\n",
    "\n",
    "from report_util import *\n",
    "from trial import extract\n",
    "\n",
    "WARMUP_ITERATIONS = 5\n",
    "reports_dir = '/home/katie/Downloads/galette/slurm-1190681/'\n",
    "pd.set_option('display.max_rows', 100)\n",
    "data = extract(reports_dir, os.path.join(reports_dir, 'performance.csv'))\n",
    "data.head()"
   ],
   "outputs": [
    {
     "name": "stdout",
     "output_type": "stream",
     "text": [
      "Searching for trials in /home/katie/Downloads/galette/slurm-1190681/.\n",
      "\tFound 83 trials.\n",
      "Checking trials.\n",
      "\tMissing required files for 73.\n",
      "\tMissing required files for 76.\n",
      "\tMissing required files for 59.\n",
      "\tMissing required files for 47.\n",
      "\tMissing required files for 79.\n",
      "\tMissing required files for 83.\n",
      "\tMissing required files for 61.\n",
      "\tMissing required files for 66.\n",
      "\tMissing required files for 45.\n",
      "\tMissing required files for 56.\n",
      "\tMissing required files for 51.\n",
      "\tMissing required files for 49.\n",
      "\tMissing required files for 55.\n",
      "\tMissing required files for 70.\n",
      "\tMissing required files for 57.\n",
      "\tMissing required files for 81.\n",
      "\tMissing required files for 46.\n",
      "\tMissing required files for 52.\n",
      "\tMissing required files for 80.\n",
      "\tMissing required files for 64.\n",
      "\tMissing required files for 60.\n",
      "\tMissing required files for 72.\n",
      "\tMissing required files for 53.\n",
      "\t60 trials were valid.\n",
      "Creating combined experiment CSV.\n",
      "\tWrote combined experiment CSV to /home/katie/Downloads/galette/slurm-1190681/performance.csv.\n"
     ]
    },
    {
     "data": {
      "text/plain": [
       "   iteration      rss  elapsed_time benchmark      tool\n",
       "0          5  1087200           478    spring  phosphor\n",
       "1          6  1089604           462    spring  phosphor\n",
       "2          7  1092956           526    spring  phosphor\n",
       "3          8  1095584           421    spring  phosphor\n",
       "4          9  1096460           430    spring  phosphor"
      ],
      "text/html": [
       "<div>\n",
       "<style scoped>\n",
       "    .dataframe tbody tr th:only-of-type {\n",
       "        vertical-align: middle;\n",
       "    }\n",
       "\n",
       "    .dataframe tbody tr th {\n",
       "        vertical-align: top;\n",
       "    }\n",
       "\n",
       "    .dataframe thead th {\n",
       "        text-align: right;\n",
       "    }\n",
       "</style>\n",
       "<table border=\"1\" class=\"dataframe\">\n",
       "  <thead>\n",
       "    <tr style=\"text-align: right;\">\n",
       "      <th></th>\n",
       "      <th>iteration</th>\n",
       "      <th>rss</th>\n",
       "      <th>elapsed_time</th>\n",
       "      <th>benchmark</th>\n",
       "      <th>tool</th>\n",
       "    </tr>\n",
       "  </thead>\n",
       "  <tbody>\n",
       "    <tr>\n",
       "      <th>0</th>\n",
       "      <td>5</td>\n",
       "      <td>1087200</td>\n",
       "      <td>478</td>\n",
       "      <td>spring</td>\n",
       "      <td>phosphor</td>\n",
       "    </tr>\n",
       "    <tr>\n",
       "      <th>1</th>\n",
       "      <td>6</td>\n",
       "      <td>1089604</td>\n",
       "      <td>462</td>\n",
       "      <td>spring</td>\n",
       "      <td>phosphor</td>\n",
       "    </tr>\n",
       "    <tr>\n",
       "      <th>2</th>\n",
       "      <td>7</td>\n",
       "      <td>1092956</td>\n",
       "      <td>526</td>\n",
       "      <td>spring</td>\n",
       "      <td>phosphor</td>\n",
       "    </tr>\n",
       "    <tr>\n",
       "      <th>3</th>\n",
       "      <td>8</td>\n",
       "      <td>1095584</td>\n",
       "      <td>421</td>\n",
       "      <td>spring</td>\n",
       "      <td>phosphor</td>\n",
       "    </tr>\n",
       "    <tr>\n",
       "      <th>4</th>\n",
       "      <td>9</td>\n",
       "      <td>1096460</td>\n",
       "      <td>430</td>\n",
       "      <td>spring</td>\n",
       "      <td>phosphor</td>\n",
       "    </tr>\n",
       "  </tbody>\n",
       "</table>\n",
       "</div>"
      ]
     },
     "execution_count": 1,
     "metadata": {},
     "output_type": "execute_result"
    }
   ],
   "execution_count": 1
  },
  {
   "metadata": {
    "ExecuteTime": {
     "end_time": "2024-04-24T14:03:11.524971Z",
     "start_time": "2024-04-24T14:03:11.516269Z"
    }
   },
   "cell_type": "code",
   "source": [
    "import numpy as np\n",
    "\n",
    "\n",
    "def create_table_frame(data, benchmark, y):\n",
    "    selected = select(data, benchmark=benchmark)\n",
    "    tools = sorted(data['tool'].unique())\n",
    "    rows = []\n",
    "    baseline_values = select(selected, tool='galette')[y]\n",
    "    sig_level = compute_sig_level(3)\n",
    "    for tool in tools:\n",
    "        values = select(selected, tool=tool)[y]\n",
    "        if len(values) > 0:\n",
    "            p = mann_whitney(baseline_values, values)\n",
    "            median = np.median(values)\n",
    "            sig = 'color: red;' if p < sig_level else ''\n",
    "            effect_size = a12(baseline_values, values)\n",
    "            rows.append([tool, benchmark, median, p, sig, effect_size, len(values)])\n",
    "        else:\n",
    "            rows.append([tool, benchmark, np.NaN, np.NaN, np.NaN, np.NaN, 0])\n",
    "    return pd.DataFrame(rows, columns=['tool', 'benchmark', 'med', 'p', 'sig', 'a12', 'n'])\n",
    "\n",
    "\n",
    "def create_table(data, y):\n",
    "    benchmarks = sorted(data['benchmark'].unique())\n",
    "    return pd.concat(create_table_frame(data, benchmark, y) for benchmark in benchmarks)\n",
    "\n",
    "\n",
    "def format_column_names(names):\n",
    "    return (\n",
    "        names[0].title().replace('-', '').replace('None', 'Baseline'),\n",
    "        names[1]\n",
    "    )\n",
    "\n",
    "\n",
    "def create_performance_table(data, y, title):\n",
    "    raw_table = create_table(data, y)\n",
    "    raw_table['med'] = raw_table['med'].astype(pd.Int64Dtype())\n",
    "    table = raw_table.pivot(index=['benchmark'], values=['med', 'p', 'a12'], columns=['tool']) \\\n",
    "        .reorder_levels(axis=1, order=['tool', None]) \\\n",
    "        .sort_index(axis=1) \\\n",
    "        .sort_index(axis=0) \\\n",
    "        .reindex(['galette', 'none', 'mirror-taint', 'phosphor'], axis=1, level=0) \\\n",
    "        .reindex(['med', 'p', 'a12'], axis=1, level=1)\n",
    "    # Remove comparison of Galette against itself\n",
    "    table = table.drop(columns=[('galette', 'p'), ('galette', 'a12')])\n",
    "    table.index.names = [None for _ in table.index.names]\n",
    "    table.index = table.index.map(str.title)\n",
    "    table.columns = table.columns.map(format_column_names)\n",
    "    table.columns.names = [None for _ in table.columns.names]\n",
    "    return table.style.format(precision=3, na_rep='---') \\\n",
    "        .set_caption(title)"
   ],
   "id": "3b6953c85c8ef8cb",
   "outputs": [],
   "execution_count": 2
  },
  {
   "metadata": {
    "ExecuteTime": {
     "end_time": "2024-04-24T14:03:12.148893Z",
     "start_time": "2024-04-24T14:03:11.526239Z"
    }
   },
   "cell_type": "code",
   "source": "create_performance_table(data, 'rss', 'Memory Usage (kB).')",
   "id": "8b6b1afe3421e578",
   "outputs": [
    {
     "ename": "ValueError",
     "evalue": "`x` and `y` must be of nonzero size.",
     "output_type": "error",
     "traceback": [
      "\u001B[0;31m---------------------------------------------------------------------------\u001B[0m",
      "\u001B[0;31mValueError\u001B[0m                                Traceback (most recent call last)",
      "Cell \u001B[0;32mIn[3], line 1\u001B[0m\n\u001B[0;32m----> 1\u001B[0m \u001B[43mcreate_performance_table\u001B[49m\u001B[43m(\u001B[49m\u001B[43mdata\u001B[49m\u001B[43m,\u001B[49m\u001B[43m \u001B[49m\u001B[38;5;124;43m'\u001B[39;49m\u001B[38;5;124;43mrss\u001B[39;49m\u001B[38;5;124;43m'\u001B[39;49m\u001B[43m,\u001B[49m\u001B[43m \u001B[49m\u001B[38;5;124;43m'\u001B[39;49m\u001B[38;5;124;43mMemory Usage (kB).\u001B[39;49m\u001B[38;5;124;43m'\u001B[39;49m\u001B[43m)\u001B[49m\n",
      "Cell \u001B[0;32mIn[2], line 36\u001B[0m, in \u001B[0;36mcreate_performance_table\u001B[0;34m(data, y, title)\u001B[0m\n\u001B[1;32m     35\u001B[0m \u001B[38;5;28;01mdef\u001B[39;00m \u001B[38;5;21mcreate_performance_table\u001B[39m(data, y, title):\n\u001B[0;32m---> 36\u001B[0m     raw_table \u001B[38;5;241m=\u001B[39m \u001B[43mcreate_table\u001B[49m\u001B[43m(\u001B[49m\u001B[43mdata\u001B[49m\u001B[43m,\u001B[49m\u001B[43m \u001B[49m\u001B[43my\u001B[49m\u001B[43m)\u001B[49m\n\u001B[1;32m     37\u001B[0m     raw_table[\u001B[38;5;124m'\u001B[39m\u001B[38;5;124mmed\u001B[39m\u001B[38;5;124m'\u001B[39m] \u001B[38;5;241m=\u001B[39m raw_table[\u001B[38;5;124m'\u001B[39m\u001B[38;5;124mmed\u001B[39m\u001B[38;5;124m'\u001B[39m]\u001B[38;5;241m.\u001B[39mastype(pd\u001B[38;5;241m.\u001B[39mInt64Dtype())\n\u001B[1;32m     38\u001B[0m     table \u001B[38;5;241m=\u001B[39m raw_table\u001B[38;5;241m.\u001B[39mpivot(index\u001B[38;5;241m=\u001B[39m[\u001B[38;5;124m'\u001B[39m\u001B[38;5;124mbenchmark\u001B[39m\u001B[38;5;124m'\u001B[39m], values\u001B[38;5;241m=\u001B[39m[\u001B[38;5;124m'\u001B[39m\u001B[38;5;124mmed\u001B[39m\u001B[38;5;124m'\u001B[39m, \u001B[38;5;124m'\u001B[39m\u001B[38;5;124mp\u001B[39m\u001B[38;5;124m'\u001B[39m, \u001B[38;5;124m'\u001B[39m\u001B[38;5;124ma12\u001B[39m\u001B[38;5;124m'\u001B[39m], columns\u001B[38;5;241m=\u001B[39m[\u001B[38;5;124m'\u001B[39m\u001B[38;5;124mtool\u001B[39m\u001B[38;5;124m'\u001B[39m]) \\\n\u001B[1;32m     39\u001B[0m         \u001B[38;5;241m.\u001B[39mreorder_levels(axis\u001B[38;5;241m=\u001B[39m\u001B[38;5;241m1\u001B[39m, order\u001B[38;5;241m=\u001B[39m[\u001B[38;5;124m'\u001B[39m\u001B[38;5;124mtool\u001B[39m\u001B[38;5;124m'\u001B[39m, \u001B[38;5;28;01mNone\u001B[39;00m]) \\\n\u001B[1;32m     40\u001B[0m         \u001B[38;5;241m.\u001B[39msort_index(axis\u001B[38;5;241m=\u001B[39m\u001B[38;5;241m1\u001B[39m) \\\n\u001B[1;32m     41\u001B[0m         \u001B[38;5;241m.\u001B[39msort_index(axis\u001B[38;5;241m=\u001B[39m\u001B[38;5;241m0\u001B[39m) \\\n\u001B[1;32m     42\u001B[0m         \u001B[38;5;241m.\u001B[39mreindex([\u001B[38;5;124m'\u001B[39m\u001B[38;5;124mgalette\u001B[39m\u001B[38;5;124m'\u001B[39m, \u001B[38;5;124m'\u001B[39m\u001B[38;5;124mnone\u001B[39m\u001B[38;5;124m'\u001B[39m, \u001B[38;5;124m'\u001B[39m\u001B[38;5;124mmirror-taint\u001B[39m\u001B[38;5;124m'\u001B[39m, \u001B[38;5;124m'\u001B[39m\u001B[38;5;124mphosphor\u001B[39m\u001B[38;5;124m'\u001B[39m], axis\u001B[38;5;241m=\u001B[39m\u001B[38;5;241m1\u001B[39m, level\u001B[38;5;241m=\u001B[39m\u001B[38;5;241m0\u001B[39m) \\\n\u001B[1;32m     43\u001B[0m         \u001B[38;5;241m.\u001B[39mreindex([\u001B[38;5;124m'\u001B[39m\u001B[38;5;124mmed\u001B[39m\u001B[38;5;124m'\u001B[39m, \u001B[38;5;124m'\u001B[39m\u001B[38;5;124mp\u001B[39m\u001B[38;5;124m'\u001B[39m, \u001B[38;5;124m'\u001B[39m\u001B[38;5;124ma12\u001B[39m\u001B[38;5;124m'\u001B[39m], axis\u001B[38;5;241m=\u001B[39m\u001B[38;5;241m1\u001B[39m, level\u001B[38;5;241m=\u001B[39m\u001B[38;5;241m1\u001B[39m)\n",
      "Cell \u001B[0;32mIn[2], line 25\u001B[0m, in \u001B[0;36mcreate_table\u001B[0;34m(data, y)\u001B[0m\n\u001B[1;32m     23\u001B[0m \u001B[38;5;28;01mdef\u001B[39;00m \u001B[38;5;21mcreate_table\u001B[39m(data, y):\n\u001B[1;32m     24\u001B[0m     benchmarks \u001B[38;5;241m=\u001B[39m \u001B[38;5;28msorted\u001B[39m(data[\u001B[38;5;124m'\u001B[39m\u001B[38;5;124mbenchmark\u001B[39m\u001B[38;5;124m'\u001B[39m]\u001B[38;5;241m.\u001B[39munique())\n\u001B[0;32m---> 25\u001B[0m     \u001B[38;5;28;01mreturn\u001B[39;00m \u001B[43mpd\u001B[49m\u001B[38;5;241;43m.\u001B[39;49m\u001B[43mconcat\u001B[49m\u001B[43m(\u001B[49m\u001B[43mcreate_table_frame\u001B[49m\u001B[43m(\u001B[49m\u001B[43mdata\u001B[49m\u001B[43m,\u001B[49m\u001B[43m \u001B[49m\u001B[43mbenchmark\u001B[49m\u001B[43m,\u001B[49m\u001B[43m \u001B[49m\u001B[43my\u001B[49m\u001B[43m)\u001B[49m\u001B[43m \u001B[49m\u001B[38;5;28;43;01mfor\u001B[39;49;00m\u001B[43m \u001B[49m\u001B[43mbenchmark\u001B[49m\u001B[43m \u001B[49m\u001B[38;5;129;43;01min\u001B[39;49;00m\u001B[43m \u001B[49m\u001B[43mbenchmarks\u001B[49m\u001B[43m)\u001B[49m\n",
      "File \u001B[0;32m~/IdeaProjects/phosphor2/venv/lib/python3.10/site-packages/pandas/core/reshape/concat.py:372\u001B[0m, in \u001B[0;36mconcat\u001B[0;34m(objs, axis, join, ignore_index, keys, levels, names, verify_integrity, sort, copy)\u001B[0m\n\u001B[1;32m    369\u001B[0m \u001B[38;5;28;01melif\u001B[39;00m copy \u001B[38;5;129;01mand\u001B[39;00m using_copy_on_write():\n\u001B[1;32m    370\u001B[0m     copy \u001B[38;5;241m=\u001B[39m \u001B[38;5;28;01mFalse\u001B[39;00m\n\u001B[0;32m--> 372\u001B[0m op \u001B[38;5;241m=\u001B[39m \u001B[43m_Concatenator\u001B[49m\u001B[43m(\u001B[49m\n\u001B[1;32m    373\u001B[0m \u001B[43m    \u001B[49m\u001B[43mobjs\u001B[49m\u001B[43m,\u001B[49m\n\u001B[1;32m    374\u001B[0m \u001B[43m    \u001B[49m\u001B[43maxis\u001B[49m\u001B[38;5;241;43m=\u001B[39;49m\u001B[43maxis\u001B[49m\u001B[43m,\u001B[49m\n\u001B[1;32m    375\u001B[0m \u001B[43m    \u001B[49m\u001B[43mignore_index\u001B[49m\u001B[38;5;241;43m=\u001B[39;49m\u001B[43mignore_index\u001B[49m\u001B[43m,\u001B[49m\n\u001B[1;32m    376\u001B[0m \u001B[43m    \u001B[49m\u001B[43mjoin\u001B[49m\u001B[38;5;241;43m=\u001B[39;49m\u001B[43mjoin\u001B[49m\u001B[43m,\u001B[49m\n\u001B[1;32m    377\u001B[0m \u001B[43m    \u001B[49m\u001B[43mkeys\u001B[49m\u001B[38;5;241;43m=\u001B[39;49m\u001B[43mkeys\u001B[49m\u001B[43m,\u001B[49m\n\u001B[1;32m    378\u001B[0m \u001B[43m    \u001B[49m\u001B[43mlevels\u001B[49m\u001B[38;5;241;43m=\u001B[39;49m\u001B[43mlevels\u001B[49m\u001B[43m,\u001B[49m\n\u001B[1;32m    379\u001B[0m \u001B[43m    \u001B[49m\u001B[43mnames\u001B[49m\u001B[38;5;241;43m=\u001B[39;49m\u001B[43mnames\u001B[49m\u001B[43m,\u001B[49m\n\u001B[1;32m    380\u001B[0m \u001B[43m    \u001B[49m\u001B[43mverify_integrity\u001B[49m\u001B[38;5;241;43m=\u001B[39;49m\u001B[43mverify_integrity\u001B[49m\u001B[43m,\u001B[49m\n\u001B[1;32m    381\u001B[0m \u001B[43m    \u001B[49m\u001B[43mcopy\u001B[49m\u001B[38;5;241;43m=\u001B[39;49m\u001B[43mcopy\u001B[49m\u001B[43m,\u001B[49m\n\u001B[1;32m    382\u001B[0m \u001B[43m    \u001B[49m\u001B[43msort\u001B[49m\u001B[38;5;241;43m=\u001B[39;49m\u001B[43msort\u001B[49m\u001B[43m,\u001B[49m\n\u001B[1;32m    383\u001B[0m \u001B[43m\u001B[49m\u001B[43m)\u001B[49m\n\u001B[1;32m    385\u001B[0m \u001B[38;5;28;01mreturn\u001B[39;00m op\u001B[38;5;241m.\u001B[39mget_result()\n",
      "File \u001B[0;32m~/IdeaProjects/phosphor2/venv/lib/python3.10/site-packages/pandas/core/reshape/concat.py:426\u001B[0m, in \u001B[0;36m_Concatenator.__init__\u001B[0;34m(self, objs, axis, join, keys, levels, names, ignore_index, verify_integrity, copy, sort)\u001B[0m\n\u001B[1;32m    424\u001B[0m     objs \u001B[38;5;241m=\u001B[39m [objs[k] \u001B[38;5;28;01mfor\u001B[39;00m k \u001B[38;5;129;01min\u001B[39;00m keys]\n\u001B[1;32m    425\u001B[0m \u001B[38;5;28;01melse\u001B[39;00m:\n\u001B[0;32m--> 426\u001B[0m     objs \u001B[38;5;241m=\u001B[39m \u001B[38;5;28;43mlist\u001B[39;49m\u001B[43m(\u001B[49m\u001B[43mobjs\u001B[49m\u001B[43m)\u001B[49m\n\u001B[1;32m    428\u001B[0m \u001B[38;5;28;01mif\u001B[39;00m \u001B[38;5;28mlen\u001B[39m(objs) \u001B[38;5;241m==\u001B[39m \u001B[38;5;241m0\u001B[39m:\n\u001B[1;32m    429\u001B[0m     \u001B[38;5;28;01mraise\u001B[39;00m \u001B[38;5;167;01mValueError\u001B[39;00m(\u001B[38;5;124m\"\u001B[39m\u001B[38;5;124mNo objects to concatenate\u001B[39m\u001B[38;5;124m\"\u001B[39m)\n",
      "Cell \u001B[0;32mIn[2], line 25\u001B[0m, in \u001B[0;36m<genexpr>\u001B[0;34m(.0)\u001B[0m\n\u001B[1;32m     23\u001B[0m \u001B[38;5;28;01mdef\u001B[39;00m \u001B[38;5;21mcreate_table\u001B[39m(data, y):\n\u001B[1;32m     24\u001B[0m     benchmarks \u001B[38;5;241m=\u001B[39m \u001B[38;5;28msorted\u001B[39m(data[\u001B[38;5;124m'\u001B[39m\u001B[38;5;124mbenchmark\u001B[39m\u001B[38;5;124m'\u001B[39m]\u001B[38;5;241m.\u001B[39munique())\n\u001B[0;32m---> 25\u001B[0m     \u001B[38;5;28;01mreturn\u001B[39;00m pd\u001B[38;5;241m.\u001B[39mconcat(\u001B[43mcreate_table_frame\u001B[49m\u001B[43m(\u001B[49m\u001B[43mdata\u001B[49m\u001B[43m,\u001B[49m\u001B[43m \u001B[49m\u001B[43mbenchmark\u001B[49m\u001B[43m,\u001B[49m\u001B[43m \u001B[49m\u001B[43my\u001B[49m\u001B[43m)\u001B[49m \u001B[38;5;28;01mfor\u001B[39;00m benchmark \u001B[38;5;129;01min\u001B[39;00m benchmarks)\n",
      "Cell \u001B[0;32mIn[2], line 13\u001B[0m, in \u001B[0;36mcreate_table_frame\u001B[0;34m(data, benchmark, y)\u001B[0m\n\u001B[1;32m     11\u001B[0m values \u001B[38;5;241m=\u001B[39m select(selected, tool\u001B[38;5;241m=\u001B[39mtool)[y]\n\u001B[1;32m     12\u001B[0m \u001B[38;5;28;01mif\u001B[39;00m \u001B[38;5;28mlen\u001B[39m(values) \u001B[38;5;241m>\u001B[39m \u001B[38;5;241m0\u001B[39m:\n\u001B[0;32m---> 13\u001B[0m     p \u001B[38;5;241m=\u001B[39m \u001B[43mmann_whitney\u001B[49m\u001B[43m(\u001B[49m\u001B[43mbaseline_values\u001B[49m\u001B[43m,\u001B[49m\u001B[43m \u001B[49m\u001B[43mvalues\u001B[49m\u001B[43m)\u001B[49m\n\u001B[1;32m     14\u001B[0m     median \u001B[38;5;241m=\u001B[39m np\u001B[38;5;241m.\u001B[39mmedian(values)\n\u001B[1;32m     15\u001B[0m     sig \u001B[38;5;241m=\u001B[39m \u001B[38;5;124m'\u001B[39m\u001B[38;5;124mcolor: red;\u001B[39m\u001B[38;5;124m'\u001B[39m \u001B[38;5;28;01mif\u001B[39;00m p \u001B[38;5;241m<\u001B[39m sig_level \u001B[38;5;28;01melse\u001B[39;00m \u001B[38;5;124m'\u001B[39m\u001B[38;5;124m'\u001B[39m\n",
      "File \u001B[0;32m~/IdeaProjects/phosphor2/scripts/report_util.py:32\u001B[0m, in \u001B[0;36mmann_whitney\u001B[0;34m(values1, values2)\u001B[0m\n\u001B[1;32m     31\u001B[0m \u001B[38;5;28;01mdef\u001B[39;00m \u001B[38;5;21mmann_whitney\u001B[39m(values1, values2):\n\u001B[0;32m---> 32\u001B[0m     \u001B[38;5;28;01mreturn\u001B[39;00m \u001B[43mscipy\u001B[49m\u001B[38;5;241;43m.\u001B[39;49m\u001B[43mstats\u001B[49m\u001B[38;5;241;43m.\u001B[39;49m\u001B[43mmannwhitneyu\u001B[49m\u001B[43m(\u001B[49m\u001B[43mvalues1\u001B[49m\u001B[43m,\u001B[49m\u001B[43m \u001B[49m\u001B[43mvalues2\u001B[49m\u001B[43m,\u001B[49m\u001B[43m \u001B[49m\u001B[43malternative\u001B[49m\u001B[38;5;241;43m=\u001B[39;49m\u001B[38;5;124;43m'\u001B[39;49m\u001B[38;5;124;43mtwo-sided\u001B[39;49m\u001B[38;5;124;43m'\u001B[39;49m\u001B[43m,\u001B[49m\u001B[43m \u001B[49m\u001B[43muse_continuity\u001B[49m\u001B[38;5;241;43m=\u001B[39;49m\u001B[38;5;28;43;01mTrue\u001B[39;49;00m\u001B[43m)\u001B[49m[\u001B[38;5;241m1\u001B[39m]\n",
      "File \u001B[0;32m~/IdeaProjects/phosphor2/venv/lib/python3.10/site-packages/scipy/stats/_axis_nan_policy.py:502\u001B[0m, in \u001B[0;36m_axis_nan_policy_factory.<locals>.axis_nan_policy_decorator.<locals>.axis_nan_policy_wrapper\u001B[0;34m(***failed resolving arguments***)\u001B[0m\n\u001B[1;32m    500\u001B[0m \u001B[38;5;28;01mif\u001B[39;00m sentinel:\n\u001B[1;32m    501\u001B[0m     samples \u001B[38;5;241m=\u001B[39m _remove_sentinel(samples, paired, sentinel)\n\u001B[0;32m--> 502\u001B[0m res \u001B[38;5;241m=\u001B[39m \u001B[43mhypotest_fun_out\u001B[49m\u001B[43m(\u001B[49m\u001B[38;5;241;43m*\u001B[39;49m\u001B[43msamples\u001B[49m\u001B[43m,\u001B[49m\u001B[43m \u001B[49m\u001B[38;5;241;43m*\u001B[39;49m\u001B[38;5;241;43m*\u001B[39;49m\u001B[43mkwds\u001B[49m\u001B[43m)\u001B[49m\n\u001B[1;32m    503\u001B[0m res \u001B[38;5;241m=\u001B[39m result_to_tuple(res)\n\u001B[1;32m    504\u001B[0m res \u001B[38;5;241m=\u001B[39m _add_reduced_axes(res, reduced_axes, keepdims)\n",
      "File \u001B[0;32m~/IdeaProjects/phosphor2/venv/lib/python3.10/site-packages/scipy/stats/_mannwhitneyu.py:460\u001B[0m, in \u001B[0;36mmannwhitneyu\u001B[0;34m(x, y, use_continuity, alternative, axis, method)\u001B[0m\n\u001B[1;32m    249\u001B[0m \u001B[38;5;129m@_axis_nan_policy_factory\u001B[39m(MannwhitneyuResult, n_samples\u001B[38;5;241m=\u001B[39m\u001B[38;5;241m2\u001B[39m)\n\u001B[1;32m    250\u001B[0m \u001B[38;5;28;01mdef\u001B[39;00m \u001B[38;5;21mmannwhitneyu\u001B[39m(x, y, use_continuity\u001B[38;5;241m=\u001B[39m\u001B[38;5;28;01mTrue\u001B[39;00m, alternative\u001B[38;5;241m=\u001B[39m\u001B[38;5;124m\"\u001B[39m\u001B[38;5;124mtwo-sided\u001B[39m\u001B[38;5;124m\"\u001B[39m,\n\u001B[1;32m    251\u001B[0m                  axis\u001B[38;5;241m=\u001B[39m\u001B[38;5;241m0\u001B[39m, method\u001B[38;5;241m=\u001B[39m\u001B[38;5;124m\"\u001B[39m\u001B[38;5;124mauto\u001B[39m\u001B[38;5;124m\"\u001B[39m):\n\u001B[1;32m    252\u001B[0m \u001B[38;5;250m    \u001B[39m\u001B[38;5;124mr\u001B[39m\u001B[38;5;124;03m'''Perform the Mann-Whitney U rank test on two independent samples.\u001B[39;00m\n\u001B[1;32m    253\u001B[0m \n\u001B[1;32m    254\u001B[0m \u001B[38;5;124;03m    The Mann-Whitney U test is a nonparametric test of the null hypothesis\u001B[39;00m\n\u001B[0;32m   (...)\u001B[0m\n\u001B[1;32m    456\u001B[0m \n\u001B[1;32m    457\u001B[0m \u001B[38;5;124;03m    '''\u001B[39;00m\n\u001B[1;32m    459\u001B[0m     x, y, use_continuity, alternative, axis_int, method \u001B[38;5;241m=\u001B[39m (\n\u001B[0;32m--> 460\u001B[0m         \u001B[43m_mwu_input_validation\u001B[49m\u001B[43m(\u001B[49m\u001B[43mx\u001B[49m\u001B[43m,\u001B[49m\u001B[43m \u001B[49m\u001B[43my\u001B[49m\u001B[43m,\u001B[49m\u001B[43m \u001B[49m\u001B[43muse_continuity\u001B[49m\u001B[43m,\u001B[49m\u001B[43m \u001B[49m\u001B[43malternative\u001B[49m\u001B[43m,\u001B[49m\u001B[43m \u001B[49m\u001B[43maxis\u001B[49m\u001B[43m,\u001B[49m\u001B[43m \u001B[49m\u001B[43mmethod\u001B[49m\u001B[43m)\u001B[49m)\n\u001B[1;32m    462\u001B[0m     x, y, xy \u001B[38;5;241m=\u001B[39m _broadcast_concatenate(x, y, axis)\n\u001B[1;32m    464\u001B[0m     n1, n2 \u001B[38;5;241m=\u001B[39m x\u001B[38;5;241m.\u001B[39mshape[\u001B[38;5;241m-\u001B[39m\u001B[38;5;241m1\u001B[39m], y\u001B[38;5;241m.\u001B[39mshape[\u001B[38;5;241m-\u001B[39m\u001B[38;5;241m1\u001B[39m]\n",
      "File \u001B[0;32m~/IdeaProjects/phosphor2/venv/lib/python3.10/site-packages/scipy/stats/_mannwhitneyu.py:203\u001B[0m, in \u001B[0;36m_mwu_input_validation\u001B[0;34m(x, y, use_continuity, alternative, axis, method)\u001B[0m\n\u001B[1;32m    201\u001B[0m     \u001B[38;5;28;01mraise\u001B[39;00m \u001B[38;5;167;01mValueError\u001B[39;00m(\u001B[38;5;124m'\u001B[39m\u001B[38;5;124m`x` and `y` must not contain NaNs.\u001B[39m\u001B[38;5;124m'\u001B[39m)\n\u001B[1;32m    202\u001B[0m \u001B[38;5;28;01mif\u001B[39;00m np\u001B[38;5;241m.\u001B[39msize(x) \u001B[38;5;241m==\u001B[39m \u001B[38;5;241m0\u001B[39m \u001B[38;5;129;01mor\u001B[39;00m np\u001B[38;5;241m.\u001B[39msize(y) \u001B[38;5;241m==\u001B[39m \u001B[38;5;241m0\u001B[39m:\n\u001B[0;32m--> 203\u001B[0m     \u001B[38;5;28;01mraise\u001B[39;00m \u001B[38;5;167;01mValueError\u001B[39;00m(\u001B[38;5;124m'\u001B[39m\u001B[38;5;124m`x` and `y` must be of nonzero size.\u001B[39m\u001B[38;5;124m'\u001B[39m)\n\u001B[1;32m    205\u001B[0m bools \u001B[38;5;241m=\u001B[39m {\u001B[38;5;28;01mTrue\u001B[39;00m, \u001B[38;5;28;01mFalse\u001B[39;00m}\n\u001B[1;32m    206\u001B[0m \u001B[38;5;28;01mif\u001B[39;00m use_continuity \u001B[38;5;129;01mnot\u001B[39;00m \u001B[38;5;129;01min\u001B[39;00m bools:\n",
      "\u001B[0;31mValueError\u001B[0m: `x` and `y` must be of nonzero size."
     ]
    }
   ],
   "execution_count": 3
  },
  {
   "metadata": {},
   "cell_type": "code",
   "source": "create_performance_table(data, 'elapsed_time', 'Execution Time (ms).')",
   "id": "c79262ac2818d0a9",
   "outputs": [],
   "execution_count": null
  }
 ],
 "metadata": {
  "kernelspec": {
   "display_name": "Python 3",
   "language": "python",
   "name": "python3"
  },
  "language_info": {
   "codemirror_mode": {
    "name": "ipython",
    "version": 2
   },
   "file_extension": ".py",
   "mimetype": "text/x-python",
   "name": "python",
   "nbconvert_exporter": "python",
   "pygments_lexer": "ipython2",
   "version": "2.7.6"
  }
 },
 "nbformat": 4,
 "nbformat_minor": 5
}
