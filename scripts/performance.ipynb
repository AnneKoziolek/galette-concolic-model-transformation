{
 "cells": [
  {
   "cell_type": "code",
   "id": "initial_id",
   "metadata": {
    "collapsed": true,
    "ExecuteTime": {
     "end_time": "2024-11-26T15:19:38.163905Z",
     "start_time": "2024-11-26T15:19:23.071798Z"
    }
   },
   "source": [
    "from report import *\n",
    "from trial_data import extract\n",
    "\n",
    "reports_dir = '../data/'\n",
    "data = extract(reports_dir, reports_dir)[1]\n",
    "t1, t2 = create_styled_performance_tables(data)"
   ],
   "outputs": [
    {
     "name": "stdout",
     "output_type": "stream",
     "text": [
      "Using existing aggregated datasets.\n"
     ]
    }
   ],
   "execution_count": 2
  },
  {
   "metadata": {
    "ExecuteTime": {
     "end_time": "2024-11-26T15:19:38.212797Z",
     "start_time": "2024-11-26T15:19:38.166224Z"
    }
   },
   "cell_type": "code",
   "source": [
    "print(t1.to_latex(multicol_align='c', hrules=True, multirow_align='t', convert_css=True))"
   ],
   "id": "df1120824aca311c",
   "outputs": [
    {
     "name": "stdout",
     "output_type": "stream",
     "text": [
      "\\begin{table}\n",
      "\\caption{Execution Time and Peak Memory Usage.}\n",
      "\\begin{tabular}{lrrrrrrrrrrrrrrrrrrrr}\n",
      "\\toprule\n",
      " & \\multicolumn{10}{c}{Execution Time} & \\multicolumn{10}{c}{Peak Memory Usage} \\\\\n",
      " & Baseline & \\multicolumn{3}{c}{Galette} & \\multicolumn{3}{c}{MirrorTaint} & \\multicolumn{3}{c}{Phosphor} & Baseline & \\multicolumn{3}{c}{Galette} & \\multicolumn{3}{c}{MirrorTaint} & \\multicolumn{3}{c}{Phosphor} \\\\\n",
      " & MED & OV & LCL & UCL & OV & LCL & UCL & OV & LCL & UCL & MED & OV & LCL & UCL & OV & LCL & UCL & OV & LCL & UCL \\\\\n",
      "\\midrule\n",
      "avrora & 2,360 & 0.90 & 0.84 & 0.98 & \\color{green} 662.53 & \\color{green} 628.58 & \\color{green} 689.92 & \\color{green} 1.59 & \\color{green} 1.47 & \\color{green} 1.76 & 126.89 & 0.71 & 0.64 & 0.83 & \\color{green} 16.72 & \\color{green} 15.83 & \\color{green} 17.98 & \\color{green} 1.56 & \\color{green} 1.45 & \\color{green} 1.74 \\\\\n",
      "batik & 272 & 11.30 & 10.33 & 12.21 & \\color{green} 2,908.87 & \\color{green} 2,715.91 & \\color{green} 3,101.19 & --- & --- & --- & 226.22 & 1.48 & 1.40 & 1.56 & \\color{green} 9.25 & \\color{green} 8.96 & \\color{green} 9.54 & --- & --- & --- \\\\\n",
      "biojava & 134 & 29.28 & 27.82 & 30.31 & \\color{green} 2,642.57 & \\color{green} 2,421.95 & \\color{green} 2,781.04 & \\color{red} 15.32 & \\color{red} 14.69 & \\color{red} 16.22 & 171.58 & 2.34 & 2.27 & 2.42 & \\color{green} 4.01 & \\color{green} 3.94 & \\color{green} 4.06 & \\color{red} 1.30 & \\color{red} 1.26 & \\color{red} 1.33 \\\\\n",
      "eclipse & 628 & 1.68 & -0.69 & 3.33 & --- & --- & --- & --- & --- & --- & 295.46 & 0.99 & 0.83 & 1.25 & --- & --- & --- & --- & --- & --- \\\\\n",
      "fop & 110 & 3.01 & 2.57 & 3.50 & --- & --- & --- & \\color{green} 5.64 & \\color{green} 4.84 & \\color{green} 6.22 & 144.34 & 1.10 & 1.08 & 1.13 & --- & --- & --- & \\color{green} 2.25 & \\color{green} 2.21 & \\color{green} 2.28 \\\\\n",
      "graphchi & 504 & 5.40 & 5.12 & 5.77 & --- & --- & --- & \\color{green} 13.81 & \\color{green} 13.17 & \\color{green} 14.51 & 404.80 & 1.27 & 1.12 & 1.36 & --- & --- & --- & \\color{red} 0.36 & \\color{red} 0.34 & \\color{red} 0.38 \\\\\n",
      "h2 & 134 & 4.40 & 4.06 & 4.71 & \\color{green} 866.75 & \\color{green} 834.94 & \\color{green} 898.80 & \\color{green} 7.69 & \\color{green} 7.22 & \\color{green} 8.31 & 330.46 & 1.15 & 1.11 & 1.19 & \\color{green} 1.26 & \\color{green} 1.23 & \\color{green} 1.30 & \\color{green} 1.49 & \\color{green} 1.46 & \\color{green} 1.52 \\\\\n",
      "h2o & 600 & 16.17 & 15.59 & 17.38 & --- & --- & --- & --- & --- & --- & 393.08 & 0.75 & 0.72 & 0.80 & --- & --- & --- & --- & --- & --- \\\\\n",
      "jme & 1,022 & 3.16 & 2.86 & 3.47 & \\color{green} 3,916.11 & \\color{green} 3,730.04 & \\color{green} 4,183.92 & \\color{green} 3.65 & \\color{green} 3.41 & \\color{green} 3.96 & 265.96 & 1.64 & 1.52 & 1.75 & \\color{green} 8.34 & \\color{green} 7.89 & \\color{green} 8.74 & \\color{red} 1.27 & \\color{red} 1.16 & \\color{red} 1.38 \\\\\n",
      "jython & 381 & 10.37 & 9.81 & 10.93 & --- & --- & --- & --- & --- & --- & 420.20 & 6.50 & 6.28 & 6.76 & --- & --- & --- & --- & --- & --- \\\\\n",
      "luindex & 1,100 & 5.32 & 2.54 & 7.18 & --- & --- & --- & \\color{green} 10.05 & \\color{green} 5.19 & \\color{green} 13.37 & 226.56 & 0.86 & 0.81 & 0.90 & --- & --- & --- & \\color{green} 1.54 & \\color{green} 1.49 & \\color{green} 1.59 \\\\\n",
      "lusearch & 182 & 9.59 & 8.61 & 10.25 & \\color{green} 3,630.84 & \\color{green} 3,320.09 & \\color{green} 3,825.41 & \\color{red} 8.50 & \\color{red} 7.62 & \\color{red} 9.12 & 216.05 & 2.29 & 2.10 & 2.45 & \\color{green} 2.72 & \\color{green} 2.61 & \\color{green} 2.85 & \\color{red} 0.93 & \\color{red} 0.89 & \\color{red} 1.01 \\\\\n",
      "pmd & 98 & 2.88 & 2.56 & 3.29 & --- & --- & --- & --- & --- & --- & 137.40 & 0.88 & 0.85 & 0.92 & --- & --- & --- & --- & --- & --- \\\\\n",
      "spring & 98 & 1.68 & 1.52 & 1.86 & --- & --- & --- & \\color{green} 4.62 & \\color{green} 4.23 & \\color{green} 5.04 & 408.66 & 1.01 & 0.99 & 1.03 & --- & --- & --- & \\color{green} 1.67 & \\color{green} 1.65 & \\color{green} 1.70 \\\\\n",
      "sunflow & 285 & 14.18 & 13.52 & 15.05 & \\color{green} 27,399.37 & \\color{green} 26,446.86 & \\color{green} 27,774.67 & \\color{green} 16.94 & \\color{green} 16.33 & \\color{green} 17.42 & 166.03 & 1.18 & 1.12 & 1.24 & \\color{green} 7.21 & \\color{green} 7.03 & \\color{green} 7.44 & 1.15 & 1.12 & 1.20 \\\\\n",
      "tomcat & 352 & 4.03 & 3.58 & 4.38 & \\color{green} 63.63 & \\color{green} 60.30 & \\color{green} 68.10 & --- & --- & --- & 280.74 & 1.49 & 1.45 & 1.54 & \\color{green} 3.88 & \\color{green} 3.54 & \\color{green} 4.13 & --- & --- & --- \\\\\n",
      "tradebeans & 162 & 6.90 & 6.48 & 7.49 & --- & --- & --- & --- & --- & --- & 607.82 & 1.40 & 1.36 & 1.46 & --- & --- & --- & --- & --- & --- \\\\\n",
      "tradesoap & 453 & 8.74 & 7.98 & 9.42 & --- & --- & --- & --- & --- & --- & 681.13 & 1.30 & 1.25 & 1.32 & --- & --- & --- & --- & --- & --- \\\\\n",
      "xalan & 106 & 5.29 & 4.46 & 5.90 & --- & --- & --- & 4.81 & 3.90 & 5.55 & 132.14 & 0.82 & 0.78 & 0.90 & --- & --- & --- & \\color{green} 1.64 & \\color{green} 1.59 & \\color{green} 1.68 \\\\\n",
      "zxing & 162 & 3.57 & 3.36 & 3.85 & \\color{green} 8,252.57 & \\color{green} 7,972.77 & \\color{green} 8,712.91 & --- & --- & --- & 108.98 & 1.56 & 1.52 & 1.63 & \\color{green} 36.35 & \\color{green} 35.40 & \\color{green} 37.87 & --- & --- & --- \\\\\n",
      "\\bottomrule\n",
      "\\end{tabular}\n",
      "\\end{table}\n"
     ]
    }
   ],
   "execution_count": 3
  },
  {
   "cell_type": "code",
   "outputs": [
    {
     "name": "stdout",
     "output_type": "stream",
     "text": [
      "\\begin{table}\n",
      "\\caption{Execution Time and Peak Memory Usage Statistical Tests.}\n",
      "\\begin{tabular}{lrrrrrrrr}\n",
      "\\toprule\n",
      " & \\multicolumn{4}{c}{Execution Time} & \\multicolumn{4}{c}{Peak Memory Usage} \\\\\n",
      " & \\multicolumn{2}{c}{MirrorTaint} & \\multicolumn{2}{c}{Phosphor} & \\multicolumn{2}{c}{MirrorTaint} & \\multicolumn{2}{c}{Phosphor} \\\\\n",
      " & p & a12 & p & a12 & p & a12 & p & a12 \\\\\n",
      "\\midrule\n",
      "avrora & \\color{green} 2.562E-34 & \\color{green} 1.000 & \\color{green} 1.125E-33 & \\color{green} 0.995 & \\color{green} 2.562E-34 & \\color{green} 1.000 & \\color{green} 5.928E-34 & \\color{green} 0.997 \\\\\n",
      "batik & \\color{green} 2.562E-34 & \\color{green} 1.000 & --- & --- & \\color{green} 2.562E-34 & \\color{green} 1.000 & --- & --- \\\\\n",
      "biojava & \\color{green} 2.561E-34 & \\color{green} 1.000 & \\color{red} 2.560E-34 & \\color{red} 1.000 & \\color{green} 2.562E-34 & \\color{green} 1.000 & \\color{red} 2.562E-34 & \\color{red} 1.000 \\\\\n",
      "eclipse & --- & --- & --- & --- & --- & --- & --- & --- \\\\\n",
      "fop & --- & --- & \\color{green} 5.930E-22 & \\color{green} 0.894 & --- & --- & \\color{green} 2.562E-34 & \\color{green} 1.000 \\\\\n",
      "graphchi & --- & --- & \\color{green} 3.672E-34 & \\color{green} 0.999 & --- & --- & \\color{red} 2.562E-34 & \\color{red} 1.000 \\\\\n",
      "h2 & \\color{green} 2.560E-34 & \\color{green} 1.000 & \\color{green} 9.947E-31 & \\color{green} 0.972 & \\color{green} 6.592E-16 & \\color{green} 0.831 & \\color{green} 1.046E-32 & \\color{green} 0.988 \\\\\n",
      "h2o & --- & --- & --- & --- & --- & --- & --- & --- \\\\\n",
      "jme & \\color{green} 2.562E-34 & \\color{green} 1.000 & \\color{green} 1.021E-05 & \\color{green} 0.681 & \\color{green} 2.562E-34 & \\color{green} 1.000 & \\color{red} 5.236E-20 & \\color{red} 0.875 \\\\\n",
      "jython & --- & --- & --- & --- & --- & --- & --- & --- \\\\\n",
      "luindex & --- & --- & \\color{green} 1.968E-13 & \\color{green} 0.801 & --- & --- & \\color{green} 4.530E-34 & \\color{green} 0.998 \\\\\n",
      "lusearch & \\color{green} 2.561E-34 & \\color{green} 1.000 & \\color{red} 1.617E-07 & \\color{red} 0.714 & \\color{green} 5.535E-21 & \\color{green} 0.885 & \\color{red} 2.562E-34 & \\color{red} 1.000 \\\\\n",
      "pmd & --- & --- & --- & --- & --- & --- & --- & --- \\\\\n",
      "spring & --- & --- & \\color{green} 1.753E-33 & \\color{green} 0.994 & --- & --- & \\color{green} 2.562E-34 & \\color{green} 1.000 \\\\\n",
      "sunflow & \\color{green} 2.561E-34 & \\color{green} 1.000 & \\color{green} 2.064E-25 & \\color{green} 0.926 & \\color{green} 2.562E-34 & \\color{green} 1.000 & 6.770E-01 & 0.517 \\\\\n",
      "tomcat & \\color{green} 2.561E-34 & \\color{green} 1.000 & --- & --- & \\color{green} 2.562E-34 & \\color{green} 1.000 & --- & --- \\\\\n",
      "tradebeans & --- & --- & --- & --- & --- & --- & --- & --- \\\\\n",
      "tradesoap & --- & --- & --- & --- & --- & --- & --- & --- \\\\\n",
      "xalan & --- & --- & 7.212E-02 & 0.574 & --- & --- & \\color{green} 2.562E-34 & \\color{green} 1.000 \\\\\n",
      "zxing & \\color{green} 2.560E-34 & \\color{green} 1.000 & --- & --- & \\color{green} 2.562E-34 & \\color{green} 1.000 & --- & --- \\\\\n",
      "\\bottomrule\n",
      "\\end{tabular}\n",
      "\\end{table}\n"
     ]
    }
   ],
   "source": [
    "print(t2.to_latex(multicol_align='c', hrules=True, multirow_align='t', convert_css=True))"
   ],
   "metadata": {
    "collapsed": false
   },
   "id": "1d4f17299637e82",
   "execution_count": 4
  },
  {
   "metadata": {
    "ExecuteTime": {
     "end_time": "2024-11-26T16:02:43.519741Z",
     "start_time": "2024-11-26T16:02:29.357850Z"
    }
   },
   "cell_type": "code",
   "outputs": [
    {
     "data": {
      "text/plain": "<pandas.io.formats.style.Styler at 0x7458104db5b0>",
      "text/html": "<style type=\"text/css\">\n</style>\n<table id=\"T_f82b4\">\n  <thead>\n    <tr>\n      <th class=\"blank level0\" >&nbsp;</th>\n      <th id=\"T_f82b4_level0_col0\" class=\"col_heading level0 col0\" >tool</th>\n      <th id=\"T_f82b4_level0_col1\" class=\"col_heading level0 col1\" >metric</th>\n      <th id=\"T_f82b4_level0_col2\" class=\"col_heading level0 col2\" >mean</th>\n      <th id=\"T_f82b4_level0_col3\" class=\"col_heading level0 col3\" >min</th>\n      <th id=\"T_f82b4_level0_col4\" class=\"col_heading level0 col4\" >max</th>\n    </tr>\n  </thead>\n  <tbody>\n    <tr>\n      <th id=\"T_f82b4_level0_row0\" class=\"row_heading level0 row0\" >0</th>\n      <td id=\"T_f82b4_row0_col0\" class=\"data row0 col0\" >galette</td>\n      <td id=\"T_f82b4_row0_col1\" class=\"data row0 col1\" >elapsed_time</td>\n      <td id=\"T_f82b4_row0_col2\" class=\"data row0 col2\" >7.393</td>\n      <td id=\"T_f82b4_row0_col3\" class=\"data row0 col3\" >0.904</td>\n      <td id=\"T_f82b4_row0_col4\" class=\"data row0 col4\" >29.280</td>\n    </tr>\n    <tr>\n      <th id=\"T_f82b4_level0_row1\" class=\"row_heading level0 row1\" >1</th>\n      <td id=\"T_f82b4_row1_col0\" class=\"data row1 col0\" >galette</td>\n      <td id=\"T_f82b4_row1_col1\" class=\"data row1 col1\" >rss</td>\n      <td id=\"T_f82b4_row1_col2\" class=\"data row1 col2\" >1.536</td>\n      <td id=\"T_f82b4_row1_col3\" class=\"data row1 col3\" >0.709</td>\n      <td id=\"T_f82b4_row1_col4\" class=\"data row1 col4\" >6.503</td>\n    </tr>\n    <tr>\n      <th id=\"T_f82b4_level0_row2\" class=\"row_heading level0 row2\" >2</th>\n      <td id=\"T_f82b4_row2_col0\" class=\"data row2 col0\" >mirror-taint</td>\n      <td id=\"T_f82b4_row2_col1\" class=\"data row2 col1\" >elapsed_time</td>\n      <td id=\"T_f82b4_row2_col2\" class=\"data row2 col2\" >5593.692</td>\n      <td id=\"T_f82b4_row2_col3\" class=\"data row2 col3\" >63.630</td>\n      <td id=\"T_f82b4_row2_col4\" class=\"data row2 col4\" >27399.372</td>\n    </tr>\n    <tr>\n      <th id=\"T_f82b4_level0_row3\" class=\"row_heading level0 row3\" >3</th>\n      <td id=\"T_f82b4_row3_col0\" class=\"data row3 col0\" >mirror-taint</td>\n      <td id=\"T_f82b4_row3_col1\" class=\"data row3 col1\" >rss</td>\n      <td id=\"T_f82b4_row3_col2\" class=\"data row3 col2\" >9.971</td>\n      <td id=\"T_f82b4_row3_col3\" class=\"data row3 col3\" >1.260</td>\n      <td id=\"T_f82b4_row3_col4\" class=\"data row3 col4\" >36.348</td>\n    </tr>\n    <tr>\n      <th id=\"T_f82b4_level0_row4\" class=\"row_heading level0 row4\" >4</th>\n      <td id=\"T_f82b4_row4_col0\" class=\"data row4 col0\" >phosphor</td>\n      <td id=\"T_f82b4_row4_col1\" class=\"data row4 col1\" >elapsed_time</td>\n      <td id=\"T_f82b4_row4_col2\" class=\"data row4 col2\" >8.420</td>\n      <td id=\"T_f82b4_row4_col3\" class=\"data row4 col3\" >1.590</td>\n      <td id=\"T_f82b4_row4_col4\" class=\"data row4 col4\" >16.937</td>\n    </tr>\n    <tr>\n      <th id=\"T_f82b4_level0_row5\" class=\"row_heading level0 row5\" >5</th>\n      <td id=\"T_f82b4_row5_col0\" class=\"data row5 col0\" >phosphor</td>\n      <td id=\"T_f82b4_row5_col1\" class=\"data row5 col1\" >rss</td>\n      <td id=\"T_f82b4_row5_col2\" class=\"data row5 col2\" >1.379</td>\n      <td id=\"T_f82b4_row5_col3\" class=\"data row5 col3\" >0.357</td>\n      <td id=\"T_f82b4_row5_col4\" class=\"data row5 col4\" >2.248</td>\n    </tr>\n  </tbody>\n</table>\n"
     },
     "execution_count": 18,
     "metadata": {},
     "output_type": "execute_result"
    }
   ],
   "execution_count": 18,
   "source": [
    "# Compute the range and average of the median overhead for each tool\n",
    "x = create_performance_table(data)\n",
    "x = x[x['tool'] != 'none']\n",
    "x.groupby(['tool', 'metric']) ['value']\\\n",
    "    .agg(['mean', 'min', 'max'])\\\n",
    "    .reset_index() \\\n",
    "    .style \\\n",
    "    .format(precision=3)"
   ],
   "id": "e8ec6994aa07d75d"
  }
 ],
 "metadata": {
  "kernelspec": {
   "display_name": "Python 3",
   "language": "python",
   "name": "python3"
  },
  "language_info": {
   "codemirror_mode": {
    "name": "ipython",
    "version": 2
   },
   "file_extension": ".py",
   "mimetype": "text/x-python",
   "name": "python",
   "nbconvert_exporter": "python",
   "pygments_lexer": "ipython2",
   "version": "2.7.6"
  }
 },
 "nbformat": 4,
 "nbformat_minor": 5
}
